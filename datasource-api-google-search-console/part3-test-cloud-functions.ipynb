{
 "cells": [
  {
   "cell_type": "markdown",
   "id": "ffc0a454",
   "metadata": {
    "id": "ffc0a454"
   },
   "source": [
    "# Part 3 - ADVANCED Testing Google Cloud Functions\n",
    "\n",
    "\n",
    "### Overview\n",
    "\n",
    "- SEE PART 1 for how to connect and download GSC data\n",
    "- SEE Advanced Instructions for setting up BigQuery and Cloud functions\n",
    "\n",
    "\n",
    "### About Me\n",
    "\n",
    "My name is Alton Alexander. I am a Data Science consultant turned entreprenuer building SaaS tools for SEO.\n",
    "\n",
    "Find more about my free scripts or ask me any question on twitter: @alton_lex"
   ]
  },
  {
   "cell_type": "markdown",
   "id": "f96450db",
   "metadata": {
    "id": "f96450db"
   },
   "source": [
    "# GSC Cloud Functions:"
   ]
  },
  {
   "cell_type": "markdown",
   "id": "600260fc",
   "metadata": {},
   "source": [
    "## Load Libraries"
   ]
  },
  {
   "cell_type": "code",
   "execution_count": 40,
   "id": "6be86962",
   "metadata": {
    "colab": {
     "base_uri": "https://localhost:8080/"
    },
    "id": "6be86962",
    "outputId": "54e1f80e-bfa2-43f0-a70d-7f9d24e4ed53"
   },
   "outputs": [
    {
     "name": "stdout",
     "output_type": "stream",
     "text": [
      "Defaulting to user installation because normal site-packages is not writeable\n",
      "Requirement already satisfied: pandas in /home/alton/.local/lib/python3.10/site-packages (1.5.2)\n",
      "Requirement already satisfied: python-dateutil>=2.8.1 in /home/alton/.local/lib/python3.10/site-packages (from pandas) (2.8.2)\n",
      "Requirement already satisfied: numpy>=1.21.0 in /usr/lib/python3/dist-packages (from pandas) (1.21.5)\n",
      "Requirement already satisfied: pytz>=2020.1 in /usr/lib/python3/dist-packages (from pandas) (2022.1)\n",
      "Requirement already satisfied: six>=1.5 in /usr/lib/python3/dist-packages (from python-dateutil>=2.8.1->pandas) (1.16.0)\n",
      "\n",
      "\u001b[1m[\u001b[0m\u001b[34;49mnotice\u001b[0m\u001b[1;39;49m]\u001b[0m\u001b[39;49m A new release of pip available: \u001b[0m\u001b[31;49m22.2.2\u001b[0m\u001b[39;49m -> \u001b[0m\u001b[32;49m22.3.1\u001b[0m\n",
      "\u001b[1m[\u001b[0m\u001b[34;49mnotice\u001b[0m\u001b[1;39;49m]\u001b[0m\u001b[39;49m To update, run: \u001b[0m\u001b[32;49mpython3 -m pip install --upgrade pip\u001b[0m\n"
     ]
    }
   ],
   "source": [
    "# load libraries\n",
    "import requests\n",
    "import json\n",
    "from urllib.parse import urlparse\n",
    "\n",
    "import httplib2\n",
    "from apiclient import errors\n",
    "from apiclient.discovery import build\n",
    "\n",
    "import datetime\n",
    "\n",
    "from google.oauth2 import service_account\n",
    "import google.oauth2.credentials\n",
    "import google.auth.transport.requests\n",
    "\n",
    "!pip install pandas\n",
    "import pandas as pd"
   ]
  },
  {
   "cell_type": "markdown",
   "id": "6c85f66b",
   "metadata": {},
   "source": [
    "## 0) Setup service account\n",
    "\n",
    "Follow the external instructions to create the cloud functions, bigquery setup, and service account."
   ]
  },
  {
   "cell_type": "markdown",
   "id": "f2db8be5",
   "metadata": {
    "id": "f2db8be5"
   },
   "source": [
    "## 1) Trigger one URL\n",
    "\n",
    "Every request to the GSC API must have user authentication.\n",
    "\n",
    "We use the service account JSON Key we get credentials.\n"
   ]
  },
  {
   "cell_type": "code",
   "execution_count": 104,
   "id": "2tqk1Fsq-ZZf",
   "metadata": {
    "id": "2tqk1Fsq-ZZf"
   },
   "outputs": [],
   "source": [
    "# local path to the service account key\n",
    "# service account's email must be added to one or more properties in GSC\n",
    "\n",
    "SERVICE_ACCOUNT_FILE = \"../gcp-keys/website-analytics-161019-16456165cddc.json\"\n",
    "#SERVICE_ACCOUNT_FILE = \"./service-account-key.json\""
   ]
  },
  {
   "cell_type": "code",
   "execution_count": 105,
   "id": "hsV0trhH-VAc",
   "metadata": {
    "id": "hsV0trhH-VAc"
   },
   "outputs": [],
   "source": [
    "SCOPES = ['https://www.googleapis.com/auth/webmasters']\n",
    "credentials = service_account.Credentials.from_service_account_file(\n",
    "        SERVICE_ACCOUNT_FILE, scopes=SCOPES)"
   ]
  },
  {
   "cell_type": "code",
   "execution_count": 106,
   "id": "f6UzXC2B-7nN",
   "metadata": {
    "id": "f6UzXC2B-7nN"
   },
   "outputs": [],
   "source": [
    "service = build(\n",
    "    'webmasters',\n",
    "    'v3',\n",
    "    credentials=credentials\n",
    ")"
   ]
  },
  {
   "cell_type": "code",
   "execution_count": 107,
   "id": "5ba56af3",
   "metadata": {},
   "outputs": [
    {
     "data": {
      "text/plain": [
       "{'siteEntry': [{'siteUrl': 'sc-domain:frontanalytics.com',\n",
       "   'permissionLevel': 'siteFullUser'}]}"
      ]
     },
     "execution_count": 107,
     "metadata": {},
     "output_type": "execute_result"
    }
   ],
   "source": [
    "# test by pulling a list of sites\n",
    "# reminder to add the service account email to every GSC property as a user\n",
    "\n",
    "\n",
    "response = service.sites().list().execute()\n",
    "response"
   ]
  },
  {
   "cell_type": "markdown",
   "id": "34aa89e6",
   "metadata": {
    "id": "34aa89e6"
   },
   "source": [
    "## 2) Trigger All URLs for a Day\n",
    "\n",
    "This pulls a list of all the pages that are showing on Google Search in the last 30 days:"
   ]
  }
 ],
 "metadata": {
  "colab": {
   "provenance": []
  },
  "kernelspec": {
   "display_name": "Python 3 (ipykernel)",
   "language": "python",
   "name": "python3"
  },
  "language_info": {
   "codemirror_mode": {
    "name": "ipython",
    "version": 3
   },
   "file_extension": ".py",
   "mimetype": "text/x-python",
   "name": "python",
   "nbconvert_exporter": "python",
   "pygments_lexer": "ipython3",
   "version": "3.10.6"
  }
 },
 "nbformat": 4,
 "nbformat_minor": 5
}
