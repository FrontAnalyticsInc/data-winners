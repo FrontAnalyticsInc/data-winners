{
 "cells": [
  {
   "cell_type": "markdown",
   "id": "ffc0a454",
   "metadata": {
    "id": "ffc0a454"
   },
   "source": [
    "# Part 5 - Testing\n",
    "\n",
    "\n",
    "\n",
    "### About Me\n",
    "\n",
    "My name is Alton Alexander. I am a Data Science consultant turned entreprenuer building SaaS tools for SEO.\n",
    "\n",
    "Find more about my free scripts or ask me any question on twitter: @alton_lex"
   ]
  },
  {
   "cell_type": "markdown",
   "id": "f96450db",
   "metadata": {
    "id": "f96450db"
   },
   "source": [
    "# Run the function locally to back process\n",
    "\n",
    "Instead of using the cloud function\n",
    "\n",
    "We will run the function locally.\n",
    "\n",
    "You need to include the folder on google colab if running it from there. See instructions for details."
   ]
  },
  {
   "cell_type": "markdown",
   "id": "600260fc",
   "metadata": {},
   "source": [
    "## Load Libraries"
   ]
  },
  {
   "cell_type": "code",
   "execution_count": 55,
   "id": "98471522",
   "metadata": {
    "scrolled": true
   },
   "outputs": [
    {
     "name": "stdout",
     "output_type": "stream",
     "text": [
      "Defaulting to user installation because normal site-packages is not writeable\n",
      "Requirement already satisfied: functions-framework in /home/alton/.local/lib/python3.10/site-packages (3.3.0)\n",
      "Requirement already satisfied: watchdog>=1.0.0 in /home/alton/.local/lib/python3.10/site-packages (from functions-framework) (2.2.1)\n",
      "Requirement already satisfied: flask<3.0,>=1.0 in /home/alton/.local/lib/python3.10/site-packages (from functions-framework) (2.0.3)\n",
      "Requirement already satisfied: cloudevents<2.0.0,>=1.2.0 in /home/alton/.local/lib/python3.10/site-packages (from functions-framework) (1.9.0)\n",
      "Requirement already satisfied: gunicorn<21.0,>=19.2.0 in /home/alton/.local/lib/python3.10/site-packages (from functions-framework) (20.1.0)\n",
      "Requirement already satisfied: click<9.0,>=7.0 in /usr/lib/python3/dist-packages (from functions-framework) (8.0.3)\n",
      "Requirement already satisfied: deprecation<3.0,>=2.0 in /home/alton/.local/lib/python3.10/site-packages (from cloudevents<2.0.0,>=1.2.0->functions-framework) (2.1.0)\n",
      "Requirement already satisfied: Werkzeug>=2.0 in /home/alton/.local/lib/python3.10/site-packages (from flask<3.0,>=1.0->functions-framework) (2.0.3)\n",
      "Requirement already satisfied: Jinja2>=3.0 in /usr/lib/python3/dist-packages (from flask<3.0,>=1.0->functions-framework) (3.0.3)\n",
      "Requirement already satisfied: itsdangerous>=2.0 in /usr/lib/python3/dist-packages (from flask<3.0,>=1.0->functions-framework) (2.1.0)\n",
      "Requirement already satisfied: setuptools>=3.0 in /usr/lib/python3/dist-packages (from gunicorn<21.0,>=19.2.0->functions-framework) (59.6.0)\n",
      "Requirement already satisfied: packaging in /home/alton/.local/lib/python3.10/site-packages (from deprecation<3.0,>=2.0->cloudevents<2.0.0,>=1.2.0->functions-framework) (21.3)\n",
      "Requirement already satisfied: pyparsing!=3.0.5,>=2.0.2 in /usr/lib/python3/dist-packages (from packaging->deprecation<3.0,>=2.0->cloudevents<2.0.0,>=1.2.0->functions-framework) (2.4.7)\n",
      "\n",
      "\u001b[1m[\u001b[0m\u001b[34;49mnotice\u001b[0m\u001b[1;39;49m]\u001b[0m\u001b[39;49m A new release of pip available: \u001b[0m\u001b[31;49m22.2.2\u001b[0m\u001b[39;49m -> \u001b[0m\u001b[32;49m23.0\u001b[0m\n",
      "\u001b[1m[\u001b[0m\u001b[34;49mnotice\u001b[0m\u001b[1;39;49m]\u001b[0m\u001b[39;49m To update, run: \u001b[0m\u001b[32;49mpython3 -m pip install --upgrade pip\u001b[0m\n"
     ]
    }
   ],
   "source": [
    "!pip install functions-framework"
   ]
  },
  {
   "cell_type": "code",
   "execution_count": 1,
   "id": "6be86962",
   "metadata": {
    "colab": {
     "base_uri": "https://localhost:8080/"
    },
    "id": "6be86962",
    "outputId": "54e1f80e-bfa2-43f0-a70d-7f9d24e4ed53"
   },
   "outputs": [
    {
     "name": "stdout",
     "output_type": "stream",
     "text": [
      "Defaulting to user installation because normal site-packages is not writeable\n",
      "Requirement already satisfied: pandas in /home/alton/.local/lib/python3.10/site-packages (1.5.2)\n",
      "Requirement already satisfied: numpy>=1.21.0 in /usr/lib/python3/dist-packages (from pandas) (1.21.5)\n",
      "Requirement already satisfied: python-dateutil>=2.8.1 in /home/alton/.local/lib/python3.10/site-packages (from pandas) (2.8.2)\n",
      "Requirement already satisfied: pytz>=2020.1 in /usr/lib/python3/dist-packages (from pandas) (2022.1)\n",
      "Requirement already satisfied: six>=1.5 in /usr/lib/python3/dist-packages (from python-dateutil>=2.8.1->pandas) (1.16.0)\n",
      "\n",
      "\u001b[1m[\u001b[0m\u001b[34;49mnotice\u001b[0m\u001b[1;39;49m]\u001b[0m\u001b[39;49m A new release of pip available: \u001b[0m\u001b[31;49m22.2.2\u001b[0m\u001b[39;49m -> \u001b[0m\u001b[32;49m23.0\u001b[0m\n",
      "\u001b[1m[\u001b[0m\u001b[34;49mnotice\u001b[0m\u001b[1;39;49m]\u001b[0m\u001b[39;49m To update, run: \u001b[0m\u001b[32;49mpython3 -m pip install --upgrade pip\u001b[0m\n"
     ]
    }
   ],
   "source": [
    "# load libraries\n",
    "import requests\n",
    "import json\n",
    "from urllib.parse import urlparse\n",
    "\n",
    "import httplib2\n",
    "from apiclient import errors\n",
    "from apiclient.discovery import build\n",
    "\n",
    "import datetime\n",
    "\n",
    "from google.oauth2 import service_account\n",
    "import google.oauth2.credentials\n",
    "import google.auth.transport.requests\n",
    "\n",
    "!pip install pandas\n",
    "import pandas as pd"
   ]
  },
  {
   "cell_type": "markdown",
   "id": "c9c0d1bf",
   "metadata": {},
   "source": [
    "# 0) Setup Variables"
   ]
  },
  {
   "cell_type": "code",
   "execution_count": 2,
   "id": "51c4874b",
   "metadata": {},
   "outputs": [],
   "source": [
    "# construct input variables\n",
    "site = \"bikelanes.com\"\n",
    "page_url = \"https://bikelanes.com/\"\n",
    "today = datetime.datetime.today()\n",
    "BQ_DATASET_NAME = 'data_winners_dataset'\n",
    "BQ_TABLE_NAME = 'gsc_daily_table'\n",
    "\n",
    "#running locally\n",
    "run_locally = True\n",
    "\n",
    "\n",
    "# load libraries if running locally\n",
    "if run_locally:\n",
    "    \n",
    "    # load the same function we use in the cloud function\n",
    "    import gsc_daily_cloud_function.main\n",
    "    \n",
    "    # create a request\n",
    "    from unittest.mock import Mock"
   ]
  },
  {
   "cell_type": "markdown",
   "id": "f2db8be5",
   "metadata": {
    "id": "f2db8be5"
   },
   "source": [
    "## 1) Process all page_urls for one day\n",
    "\n",
    "\n"
   ]
  },
  {
   "cell_type": "code",
   "execution_count": 3,
   "id": "3c9117a2",
   "metadata": {},
   "outputs": [
    {
     "name": "stderr",
     "output_type": "stream",
     "text": [
      "/home/alton/data-winners/datasource-api-google-search-console/gsc_daily_cloud_function/main.py:134: FutureWarning: The default value of regex will change from True to False in a future version. In addition, single character regular expressions will *not* be treated as literal strings when regex=True.\n",
      "  new_cols = df_queries['keys'].astype(str).str.replace(\"[\",\"\").str.replace(\"]\",\"\")\n"
     ]
    }
   ],
   "source": [
    "# three days ago\n",
    "start_date = today - datetime.timedelta(days=3)\n",
    "\n",
    "# if testing locally\n",
    "if run_locally:\n",
    "    \n",
    "    data = {\n",
    "        'site': site, \n",
    "        'BQ_DATASET_NAME':BQ_DATASET_NAME,\n",
    "        'BQ_TABLE_NAME':BQ_TABLE_NAME\n",
    "    }\n",
    "    request = Mock(get_json=Mock(return_value=data), args=data)\n",
    "    gsc_daily_cloud_function.main.run(request)"
   ]
  },
  {
   "cell_type": "markdown",
   "id": "34aa89e6",
   "metadata": {
    "id": "34aa89e6"
   },
   "source": [
    "## 2) Bulk load\n",
    "\n",
    "This pulls a list of all the pages that are showing on Google Search in the last n days:"
   ]
  },
  {
   "cell_type": "code",
   "execution_count": 4,
   "id": "0aa2a491",
   "metadata": {},
   "outputs": [
    {
     "name": "stdout",
     "output_type": "stream",
     "text": [
      "proccessing: 2023-01-29 3 days ago\n",
      "--> {}\n",
      "proccessing: 2023-01-28 4 days ago\n"
     ]
    },
    {
     "name": "stderr",
     "output_type": "stream",
     "text": [
      "/home/alton/data-winners/datasource-api-google-search-console/gsc_daily_cloud_function/main.py:134: FutureWarning: The default value of regex will change from True to False in a future version. In addition, single character regular expressions will *not* be treated as literal strings when regex=True.\n",
      "  new_cols = df_queries['keys'].astype(str).str.replace(\"[\",\"\").str.replace(\"]\",\"\")\n"
     ]
    },
    {
     "name": "stdout",
     "output_type": "stream",
     "text": [
      "--> {'n_records_loaded': 0}\n",
      "proccessing: 2023-01-27 5 days ago\n"
     ]
    },
    {
     "name": "stderr",
     "output_type": "stream",
     "text": [
      "/home/alton/data-winners/datasource-api-google-search-console/gsc_daily_cloud_function/main.py:134: FutureWarning: The default value of regex will change from True to False in a future version. In addition, single character regular expressions will *not* be treated as literal strings when regex=True.\n",
      "  new_cols = df_queries['keys'].astype(str).str.replace(\"[\",\"\").str.replace(\"]\",\"\")\n"
     ]
    },
    {
     "name": "stdout",
     "output_type": "stream",
     "text": [
      "--> {'n_records_loaded': 1}\n",
      "proccessing: 2023-01-26 6 days ago\n"
     ]
    },
    {
     "name": "stderr",
     "output_type": "stream",
     "text": [
      "/home/alton/data-winners/datasource-api-google-search-console/gsc_daily_cloud_function/main.py:134: FutureWarning: The default value of regex will change from True to False in a future version. In addition, single character regular expressions will *not* be treated as literal strings when regex=True.\n",
      "  new_cols = df_queries['keys'].astype(str).str.replace(\"[\",\"\").str.replace(\"]\",\"\")\n"
     ]
    },
    {
     "name": "stdout",
     "output_type": "stream",
     "text": [
      "--> {'n_records_loaded': 1}\n",
      "proccessing: 2023-01-25 7 days ago\n"
     ]
    },
    {
     "name": "stderr",
     "output_type": "stream",
     "text": [
      "/home/alton/data-winners/datasource-api-google-search-console/gsc_daily_cloud_function/main.py:134: FutureWarning: The default value of regex will change from True to False in a future version. In addition, single character regular expressions will *not* be treated as literal strings when regex=True.\n",
      "  new_cols = df_queries['keys'].astype(str).str.replace(\"[\",\"\").str.replace(\"]\",\"\")\n"
     ]
    },
    {
     "name": "stdout",
     "output_type": "stream",
     "text": [
      "--> {'n_records_loaded': 3}\n",
      "proccessing: 2023-01-24 8 days ago\n"
     ]
    },
    {
     "name": "stderr",
     "output_type": "stream",
     "text": [
      "/home/alton/data-winners/datasource-api-google-search-console/gsc_daily_cloud_function/main.py:134: FutureWarning: The default value of regex will change from True to False in a future version. In addition, single character regular expressions will *not* be treated as literal strings when regex=True.\n",
      "  new_cols = df_queries['keys'].astype(str).str.replace(\"[\",\"\").str.replace(\"]\",\"\")\n"
     ]
    },
    {
     "name": "stdout",
     "output_type": "stream",
     "text": [
      "--> {'n_records_loaded': 4}\n",
      "proccessing: 2023-01-23 9 days ago\n"
     ]
    },
    {
     "name": "stderr",
     "output_type": "stream",
     "text": [
      "/home/alton/data-winners/datasource-api-google-search-console/gsc_daily_cloud_function/main.py:134: FutureWarning: The default value of regex will change from True to False in a future version. In addition, single character regular expressions will *not* be treated as literal strings when regex=True.\n",
      "  new_cols = df_queries['keys'].astype(str).str.replace(\"[\",\"\").str.replace(\"]\",\"\")\n"
     ]
    },
    {
     "name": "stdout",
     "output_type": "stream",
     "text": [
      "--> {'n_records_loaded': 1}\n"
     ]
    }
   ],
   "source": [
    "# number of days to loop over\n",
    "n = 7\n",
    "\n",
    "days_ago_start = 3\n",
    "days_ago_end = days_ago_start+n\n",
    "\n",
    "# if testing locally\n",
    "if run_locally:\n",
    "    \n",
    "    for days_ago in range(days_ago_start, days_ago_end):\n",
    "        \n",
    "        start_date = today - datetime.timedelta(days=days_ago)\n",
    "        print(\"proccessing:\", str(start_date.date()), days_ago, \"days ago\")\n",
    "        \n",
    "        data = {\n",
    "            'site': site, \n",
    "            'page_url':page_url,\n",
    "            'start_date':str(start_date.date()),\n",
    "            'BQ_DATASET_NAME':BQ_DATASET_NAME,\n",
    "            'BQ_TABLE_NAME':BQ_TABLE_NAME\n",
    "        }\n",
    "        request = Mock(get_json=Mock(return_value=data), args=data)\n",
    "        results = gsc_daily_cloud_function.main.run(request)\n",
    "        print(\"-->\", results)"
   ]
  }
 ],
 "metadata": {
  "colab": {
   "provenance": []
  },
  "kernelspec": {
   "display_name": "Python 3 (ipykernel)",
   "language": "python",
   "name": "python3"
  },
  "language_info": {
   "codemirror_mode": {
    "name": "ipython",
    "version": 3
   },
   "file_extension": ".py",
   "mimetype": "text/x-python",
   "name": "python",
   "nbconvert_exporter": "python",
   "pygments_lexer": "ipython3",
   "version": "3.10.6"
  }
 },
 "nbformat": 4,
 "nbformat_minor": 5
}
