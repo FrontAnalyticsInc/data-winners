{
 "cells": [
  {
   "cell_type": "markdown",
   "id": "ffc0a454",
   "metadata": {
    "id": "ffc0a454"
   },
   "source": [
    "# Part 5 - Testing\n",
    "\n",
    "\n",
    "\n",
    "### About Me\n",
    "\n",
    "My name is Alton Alexander. I am a Data Science consultant turned entreprenuer building SaaS tools for SEO.\n",
    "\n",
    "Find more about my free scripts or ask me any question on twitter: @alton_lex"
   ]
  },
  {
   "cell_type": "markdown",
   "id": "f96450db",
   "metadata": {
    "id": "f96450db"
   },
   "source": [
    "# Run the function locally to back process\n",
    "\n",
    "Instead of using the cloud function\n",
    "\n",
    "We will run the function locally.\n",
    "\n",
    "You need to include the folder on google colab if running it from there. See instructions for details."
   ]
  },
  {
   "cell_type": "markdown",
   "id": "600260fc",
   "metadata": {},
   "source": [
    "## Load Libraries"
   ]
  },
  {
   "cell_type": "code",
   "execution_count": null,
   "id": "98471522",
   "metadata": {
    "scrolled": true
   },
   "outputs": [],
   "source": [
    "!pip install functions-framework"
   ]
  },
  {
   "cell_type": "code",
   "execution_count": null,
   "id": "6be86962",
   "metadata": {
    "colab": {
     "base_uri": "https://localhost:8080/"
    },
    "id": "6be86962",
    "outputId": "54e1f80e-bfa2-43f0-a70d-7f9d24e4ed53"
   },
   "outputs": [],
   "source": [
    "# load libraries\n",
    "import requests\n",
    "import json\n",
    "from urllib.parse import urlparse\n",
    "\n",
    "import httplib2\n",
    "from apiclient import errors\n",
    "from apiclient.discovery import build\n",
    "\n",
    "import datetime\n",
    "\n",
    "from google.oauth2 import service_account\n",
    "import google.oauth2.credentials\n",
    "import google.auth.transport.requests\n",
    "\n",
    "!pip install pandas\n",
    "import pandas as pd"
   ]
  },
  {
   "cell_type": "markdown",
   "id": "c9c0d1bf",
   "metadata": {},
   "source": [
    "# 0) Setup Variables"
   ]
  },
  {
   "cell_type": "code",
   "execution_count": null,
   "id": "51c4874b",
   "metadata": {},
   "outputs": [],
   "source": [
    "# construct input variables\n",
    "site = \"bikelanes.com\"\n",
    "page_url = \"https://bikelanes.com/\"\n",
    "today = datetime.datetime.today()\n",
    "BQ_DATASET_NAME = 'data_winners_dataset'\n",
    "BQ_TABLE_NAME = 'gsc_daily_table'\n",
    "\n",
    "#running locally\n",
    "run_locally = True\n",
    "\n",
    "\n",
    "# load libraries if running locally\n",
    "if run_locally:\n",
    "    \n",
    "    # load the same function we use in the cloud function\n",
    "    import gcp_cloud_function_gsc_to_bq_one_url.main\n",
    "    \n",
    "    # create a request\n",
    "    from unittest.mock import Mock"
   ]
  },
  {
   "cell_type": "markdown",
   "id": "f2db8be5",
   "metadata": {
    "id": "f2db8be5"
   },
   "source": [
    "## 1) Process all page_urls for one day\n",
    "\n",
    "\n"
   ]
  },
  {
   "cell_type": "code",
   "execution_count": null,
   "id": "3c9117a2",
   "metadata": {},
   "outputs": [],
   "source": [
    "# three days ago\n",
    "start_date = today - datetime.timedelta(days=3)\n",
    "\n",
    "# if testing locally\n",
    "if run_locally:\n",
    "    \n",
    "    data = {\n",
    "        'site': site, \n",
    "        'page_url':page_url, \n",
    "        'start_date':str(start_date.date()), \n",
    "        'BQ_DATASET_NAME':BQ_DATASET_NAME,\n",
    "        'BQ_TABLE_NAME':BQ_TABLE_NAME\n",
    "    }\n",
    "    request = Mock(get_json=Mock(return_value=data), args=data)\n",
    "    gcp_cloud_function_gsc_to_bq_one_url.main.run(request)"
   ]
  },
  {
   "cell_type": "markdown",
   "id": "34aa89e6",
   "metadata": {
    "id": "34aa89e6"
   },
   "source": [
    "## 2) Bulk load\n",
    "\n",
    "This pulls a list of all the pages that are showing on Google Search in the last n days:"
   ]
  },
  {
   "cell_type": "code",
   "execution_count": null,
   "id": "0aa2a491",
   "metadata": {},
   "outputs": [],
   "source": [
    "# number of days to loop over\n",
    "n = 7\n",
    "\n",
    "days_ago_start = 3\n",
    "days_ago_end = days_ago_start+n\n",
    "\n",
    "# if testing locally\n",
    "if run_locally:\n",
    "    \n",
    "    for days_ago in range(days_ago_start, days_ago_end):\n",
    "        \n",
    "        start_date = today - datetime.timedelta(days=days_ago)\n",
    "        print(\"proccessing:\", str(start_date.date()), days_ago, \"days ago\")\n",
    "        \n",
    "        data = {\n",
    "            'site': site, \n",
    "            'page_url':page_url, \n",
    "            'start_date':str(start_date.date()), \n",
    "            'BQ_DATASET_NAME':BQ_DATASET_NAME,\n",
    "            'BQ_TABLE_NAME':BQ_TABLE_NAME\n",
    "        }\n",
    "        request = Mock(get_json=Mock(return_value=data), args=data)\n",
    "        results = gcp_cloud_function_gsc_to_bq_one_url.main.run(request)\n",
    "        print(\"-->\", results)"
   ]
  }
 ],
 "metadata": {
  "colab": {
   "provenance": []
  },
  "kernelspec": {
   "display_name": "Python 3 (ipykernel)",
   "language": "python",
   "name": "python3"
  },
  "language_info": {
   "codemirror_mode": {
    "name": "ipython",
    "version": 3
   },
   "file_extension": ".py",
   "mimetype": "text/x-python",
   "name": "python",
   "nbconvert_exporter": "python",
   "pygments_lexer": "ipython3",
   "version": "3.10.6"
  }
 },
 "nbformat": 4,
 "nbformat_minor": 5
}
