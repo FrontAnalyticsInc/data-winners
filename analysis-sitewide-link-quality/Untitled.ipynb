{
 "cells": [
  {
   "cell_type": "markdown",
   "id": "eeb4680e",
   "metadata": {},
   "source": [
    "# Free Python Scripts for Sitewide Link Quality\n",
    "\n",
    "This is a FREE collaboration between @alton_lex and FatJoe.com\n",
    "\n",
    "See the README for more details: \n",
    "\n",
    "\n",
    "- More FREE scripts at https://github.com/FrontAnalyticsInc/data-winners\n",
    "\n",
    "- Additional PAID resources and services are available from each of the collaborators.\n",
    "\n",
    "\n",
    "### About Me\n",
    "\n",
    "My name is Alton Alexander. I am a Data Science consultant turned entreprenuer building SaaS tools for SEO.\n",
    "\n",
    "Find more about my free scripts or ask me any question on twitter: https://twitter.com/alton_lex @alton_lex"
   ]
  },
  {
   "cell_type": "code",
   "execution_count": 2,
   "id": "c8397fb2",
   "metadata": {},
   "outputs": [
    {
     "name": "stdout",
     "output_type": "stream",
     "text": [
      "soon\n"
     ]
    }
   ],
   "source": [
    "print(\"soon\")"
   ]
  }
 ],
 "metadata": {
  "kernelspec": {
   "display_name": "Python 3 (ipykernel)",
   "language": "python",
   "name": "python3"
  },
  "language_info": {
   "codemirror_mode": {
    "name": "ipython",
    "version": 3
   },
   "file_extension": ".py",
   "mimetype": "text/x-python",
   "name": "python",
   "nbconvert_exporter": "python",
   "pygments_lexer": "ipython3",
   "version": "3.10.6"
  }
 },
 "nbformat": 4,
 "nbformat_minor": 5
}
