{
 "cells": [
  {
   "cell_type": "markdown",
   "id": "c46565da",
   "metadata": {},
   "source": [
    "# SerpAPI Examples for Google Search Engine\n",
    "\n",
    "\n",
    "### Overview\n",
    "\n",
    "If you are interested in search traffic (paid or organic) then the it is important to monitor SERPs.\n",
    "\n",
    "Here are example scripts for connecting to this valuable datasource via SerpAPI https://serpapi.com/\n",
    "\n",
    "\n",
    "\n",
    "### About Me\n",
    "\n",
    "My name is Alton Alexander. I am a Data Science consultant turned entreprenuer building SaaS tools for SEO.\n",
    "\n",
    "Find more about my free scripts or ask me any question on twitter: @alton_lex"
   ]
  },
  {
   "cell_type": "markdown",
   "id": "51f20d52",
   "metadata": {},
   "source": [
    "# Setup\n",
    "\n",
    "First load libraries and add your SerpAPI key as an envrionment variable."
   ]
  },
  {
   "cell_type": "code",
   "execution_count": null,
   "id": "7214a3cf",
   "metadata": {},
   "outputs": [],
   "source": [
    "# load libraries\n",
    "import os\n",
    "\n",
    "# install serpapi\n",
    "!pip install google-search-results\n",
    "from serpapi import GoogleSearch"
   ]
  },
  {
   "cell_type": "code",
   "execution_count": 21,
   "id": "978a0650",
   "metadata": {},
   "outputs": [
    {
     "name": "stdout",
     "output_type": "stream",
     "text": [
      "please add your key as an environment variable!!\n"
     ]
    }
   ],
   "source": [
    "# get api_key\n",
    "\n",
    "%env API_KEY_SERPAPI=pasteyourkeyhere\n",
    "\n",
    "\n",
    "api_key_serpapi = os.getenv(\"API_KEY_SERPAPI\")\n",
    "\n",
    "if api_key_serpapi is None:\n",
    "    print(\"please add your key as an environment variable!!\")"
   ]
  },
  {
   "cell_type": "markdown",
   "id": "18d8d93e",
   "metadata": {},
   "source": [
    "# Examples"
   ]
  },
  {
   "cell_type": "markdown",
   "id": "424880b3",
   "metadata": {},
   "source": [
    "## Get Autocomplete Results\n",
    "\n",
    "As a search user if I start typing a query then google will suggest autocomplete or related queries.\n",
    "\n",
    "The autocomplete also shows a relevence score!"
   ]
  },
  {
   "cell_type": "code",
   "execution_count": 13,
   "id": "ba829236",
   "metadata": {},
   "outputs": [
    {
     "name": "stdout",
     "output_type": "stream",
     "text": [
      "https://serpapi.com/search\n",
      "\n",
      "Autosuggested: python dictionary\n",
      "{'relevance': 601,\n",
      " 'serpapi_link': 'https://serpapi.com/search.json?engine=google_autocomplete&q=python+dictionary',\n",
      " 'type': 'QUERY',\n",
      " 'value': 'python dictionary'}\n",
      "\n",
      "Autosuggested: python for loop\n",
      "{'relevance': 600,\n",
      " 'serpapi_link': 'https://serpapi.com/search.json?engine=google_autocomplete&q=python+for+loop',\n",
      " 'type': 'QUERY',\n",
      " 'value': 'python for loop'}\n",
      "\n",
      "Autosuggested: python set\n",
      "{'relevance': 555,\n",
      " 'serpapi_link': 'https://serpapi.com/search.json?engine=google_autocomplete&q=python+set',\n",
      " 'type': 'QUERY',\n",
      " 'value': 'python set'}\n",
      "\n",
      "Autosuggested: python range\n",
      "{'relevance': 554,\n",
      " 'serpapi_link': 'https://serpapi.com/search.json?engine=google_autocomplete&q=python+range',\n",
      " 'type': 'QUERY',\n",
      " 'value': 'python range'}\n",
      "\n",
      "Autosuggested: python enumerate\n",
      "{'relevance': 553,\n",
      " 'serpapi_link': 'https://serpapi.com/search.json?engine=google_autocomplete&q=python+enumerate',\n",
      " 'type': 'QUERY',\n",
      " 'value': 'python enumerate'}\n",
      "\n",
      "Autosuggested: python list\n",
      "{'relevance': 552,\n",
      " 'serpapi_link': 'https://serpapi.com/search.json?engine=google_autocomplete&q=python+list',\n",
      " 'type': 'QUERY',\n",
      " 'value': 'python list'}\n",
      "\n",
      "Autosuggested: python download\n",
      "{'relevance': 551,\n",
      " 'serpapi_link': 'https://serpapi.com/search.json?engine=google_autocomplete&q=python+download',\n",
      " 'type': 'QUERY',\n",
      " 'value': 'python download'}\n",
      "\n",
      "Autosuggested: python regex\n",
      "{'relevance': 550,\n",
      " 'serpapi_link': 'https://serpapi.com/search.json?engine=google_autocomplete&q=python+regex',\n",
      " 'type': 'QUERY',\n",
      " 'value': 'python regex'}\n"
     ]
    }
   ],
   "source": [
    "from pprint import pprint\n",
    "\n",
    "\n",
    "params = {\n",
    "  \"engine\": \"google_autocomplete\",\n",
    "  \"q\": \"python\",\n",
    "  \"api_key\": api_key_serpapi, # environment variable \n",
    "}\n",
    "\n",
    "search = GoogleSearch(params)\n",
    "results = search.get_dict()\n",
    "\n",
    "for result in results[\"suggestions\"]:\n",
    "    print()\n",
    "    print(\"Autosuggested:\", result['value'])\n",
    "    pprint(result)"
   ]
  },
  {
   "cell_type": "markdown",
   "id": "eb04e495",
   "metadata": {},
   "source": [
    "## Get Google Search Results\n",
    "\n",
    "This returns a JSON data representation of the entire search engine results page.\n",
    "\n",
    "Depending on the search engine, the available list of features in the response JSON will vary depending on the results for the given query:\n",
    "\n",
    "- an overview of serp features https://moz.com/learn/seo/serp-features\n",
    "\n",
    "- visual elements from Google Developers https://developers.google.com/search/docs/appearance/visual-elements-gallery\n",
    "\n",
    "- Google serp features from SerpAPI: https://serpapi.com/search-api"
   ]
  },
  {
   "cell_type": "code",
   "execution_count": 14,
   "id": "140974f9",
   "metadata": {},
   "outputs": [
    {
     "name": "stdout",
     "output_type": "stream",
     "text": [
      "https://serpapi.com/search\n"
     ]
    }
   ],
   "source": [
    "from pprint import pprint\n",
    "\n",
    "\n",
    "params = {\n",
    "  \"engine\": \"google\",\n",
    "  \"q\": \"python\",\n",
    "  \"api_key\": api_key_serpapi, # environment variable \n",
    "}\n",
    "\n",
    "search = GoogleSearch(params)\n",
    "results = search.get_dict()"
   ]
  },
  {
   "cell_type": "code",
   "execution_count": 20,
   "id": "aceded40",
   "metadata": {},
   "outputs": [
    {
     "data": {
      "text/plain": [
       "dict_keys(['search_metadata', 'search_parameters', 'search_information', 'knowledge_graph', 'inline_images', 'top_stories', 'organic_results', 'related_searches', 'pagination', 'serpapi_pagination'])"
      ]
     },
     "execution_count": 20,
     "metadata": {},
     "output_type": "execute_result"
    }
   ],
   "source": [
    "# show what is available\n",
    "results.keys()"
   ]
  },
  {
   "cell_type": "code",
   "execution_count": 17,
   "id": "99afd3a6",
   "metadata": {},
   "outputs": [
    {
     "name": "stdout",
     "output_type": "stream",
     "text": [
      "1 Welcome to Python.org\n",
      "https://www.python.org/\n",
      "\n",
      "2 Python (programming language) - Wikipedia\n",
      "https://en.wikipedia.org/wiki/Python_(programming_language)\n",
      "\n",
      "3 Python Tutorial - W3Schools\n",
      "https://www.w3schools.com/python/\n",
      "\n"
     ]
    }
   ],
   "source": [
    "# show top 3 organic results\n",
    "\n",
    "for result in results['organic_results'][0:3]:\n",
    "    print(result['position'], result['title'])\n",
    "    print(result['link'])\n",
    "    print()"
   ]
  },
  {
   "cell_type": "code",
   "execution_count": 19,
   "id": "8e621c87",
   "metadata": {},
   "outputs": [
    {
     "name": "stdout",
     "output_type": "stream",
     "text": [
      "python download\n",
      "python online\n",
      "python tutorial\n",
      "python programming language\n",
      "python w3schools\n",
      "python operator\n",
      "python for beginners\n",
      "python 3\n"
     ]
    }
   ],
   "source": [
    "# show related searches\n",
    "\n",
    "for related in results['related_searches']:\n",
    "    print(related['query'])"
   ]
  }
 ],
 "metadata": {
  "kernelspec": {
   "display_name": "Python 3 (ipykernel)",
   "language": "python",
   "name": "python3"
  },
  "language_info": {
   "codemirror_mode": {
    "name": "ipython",
    "version": 3
   },
   "file_extension": ".py",
   "mimetype": "text/x-python",
   "name": "python",
   "nbconvert_exporter": "python",
   "pygments_lexer": "ipython3",
   "version": "3.10.6"
  }
 },
 "nbformat": 4,
 "nbformat_minor": 5
}
