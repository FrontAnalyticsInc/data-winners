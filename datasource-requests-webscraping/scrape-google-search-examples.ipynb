{
 "cells": [
  {
   "cell_type": "markdown",
   "id": "294fbba4",
   "metadata": {},
   "source": [
    "# FREE data from Google Search using Requests\n",
    "\n",
    "\n",
    "### Overview\n",
    "\n",
    "If you are interested in search traffic (paid or organic) then the it is important to monitor SERPs.\n",
    "\n",
    "Here is data you can get using just requests!\n",
    "\n",
    "\n",
    "### About Me\n",
    "\n",
    "My name is Alton Alexander. I am a Data Science consultant turned entreprenuer building SaaS tools for SEO.\n",
    "\n",
    "Find more about my free scripts or ask me any question on twitter: https://twitter.com/alton_lex @alton_lex"
   ]
  },
  {
   "cell_type": "markdown",
   "id": "8fac050d",
   "metadata": {},
   "source": [
    "# Setup\n",
    "\n",
    "Loadig libraries including:\n",
    "    \n",
    "- Requests: is a simple library for making http requests."
   ]
  },
  {
   "cell_type": "code",
   "execution_count": 1,
   "id": "b496a5e7",
   "metadata": {},
   "outputs": [],
   "source": [
    "import requests"
   ]
  },
  {
   "cell_type": "markdown",
   "id": "5ee3febf",
   "metadata": {},
   "source": [
    "# Examples"
   ]
  },
  {
   "cell_type": "markdown",
   "id": "28377c3d",
   "metadata": {},
   "source": [
    "# Google Query Autocomplete\n",
    "\n",
    "Programatically input a search query and get back the autocomplete suggestions from google.\n",
    "\n",
    "While this works for a few queries Google will detect bot traffic.\n",
    "\n",
    "Paid services help by rotating proxies and filling in captchas."
   ]
  },
  {
   "cell_type": "code",
   "execution_count": 2,
   "id": "a619e068",
   "metadata": {},
   "outputs": [
    {
     "name": "stdout",
     "output_type": "stream",
     "text": [
      "minecraft is better than fortnite\n",
      "minecraft is better than roblox\n",
      "minecraft is better than terraria\n",
      "minecraft is better than fortnite memes\n",
      "minecraft is better than terraria reddit\n",
      "minecraft is better than fortnite 2022\n",
      "is minecraft better than free fire\n",
      "is minecraft better than fortnite 2021\n"
     ]
    }
   ],
   "source": [
    "import requests, json\n",
    "\n",
    "# a request gets sent to google's web servers\n",
    "# every browser sends headers to indicate user details\n",
    "# we mimic the real headers in our programatic request\n",
    "headers = {\n",
    "    \"User-Agent\":\n",
    "    \"Mozilla/5.0 (Windows NT 10.0; Win64; x64) AppleWebKit/537.36 (KHTML, like Gecko) Chrome/70.0.3538.102 Safari/537.36 Edge/18.19582\"\n",
    "}\n",
    "# client param could be replaced with firefox or other browser\n",
    "\n",
    "# send the request\n",
    "response = requests.get('http://google.com/complete/search?client=chrome&q=minecraft is better than', headers=headers)\n",
    "\n",
    "# loop over the results\n",
    "for result in json.loads(response.text)[1]:\n",
    "    print(result)"
   ]
  },
  {
   "cell_type": "markdown",
   "id": "2a06d78b",
   "metadata": {},
   "source": [
    "## Google Search Results\n",
    "\n",
    "We can use requests to get raw html for search results\n",
    "\n",
    "Then we use beautifulsoup, a library to parse the html file"
   ]
  },
  {
   "cell_type": "code",
   "execution_count": 19,
   "id": "78cc74ab",
   "metadata": {},
   "outputs": [],
   "source": [
    "import requests, json\n",
    "\n",
    "headers = {\n",
    "    \"User-Agent\":\n",
    "    \"Mozilla/5.0 (Windows NT 10.0; Win64; x64) AppleWebKit/537.36 (KHTML, like Gecko) Chrome/70.0.3538.102 Safari/537.36 Edge/18.19582\"\n",
    "}\n",
    "\n",
    "# send the request\n",
    "query = \"python for seo\"\n",
    "response = requests.get('http://google.com/search?client=chrome&q='+query, headers=headers)\n"
   ]
  },
  {
   "cell_type": "code",
   "execution_count": 20,
   "id": "3f3e3c1a",
   "metadata": {},
   "outputs": [
    {
     "data": {
      "text/plain": [
       "{'Content-Type': 'text/html; charset=UTF-8', 'Date': 'Fri, 06 Jan 2023 18:08:36 GMT', 'Expires': '-1', 'Cache-Control': 'private, max-age=0', 'Strict-Transport-Security': 'max-age=31536000', 'Content-Security-Policy': \"object-src 'none';base-uri 'self';script-src 'nonce-Rbgklb-P_u-qsWtiOKyf7A' 'strict-dynamic' 'report-sample' 'unsafe-eval' 'unsafe-inline' https: http:;report-uri https://csp.withgoogle.com/csp/gws/xsrp\", 'Cross-Origin-Opener-Policy-Report-Only': 'same-origin-allow-popups; report-to=\"gws\"', 'Report-To': '{\"group\":\"gws\",\"max_age\":2592000,\"endpoints\":[{\"url\":\"https://csp.withgoogle.com/csp/report-to/gws/xsrp\"}]}', 'P3P': 'CP=\"This is not a P3P policy! See g.co/p3phelp for more info.\"', 'Content-Encoding': 'gzip', 'Server': 'gws', 'X-XSS-Protection': '0', 'X-Frame-Options': 'SAMEORIGIN', 'Set-Cookie': '1P_JAR=2023-01-06-18; expires=Sun, 05-Feb-2023 18:08:36 GMT; path=/; domain=.google.com; Secure; SameSite=none, NID=511=sj0izqhgC_AkXkU_chYn8A9R8siA0q7NRrGxTi6vHOkJg7Yv2UgKmLzQqnu4h3MDGqCkP14s7szGcjm6piaSwWP2IRm0k05u175Iw2UZfPTIaG4oNRZ6wNBwZ663QXuMUW8B9ta48fDn_UlUf4kl_829XlzcTgQF_5V_e3wey4Y; expires=Sat, 08-Jul-2023 18:08:36 GMT; path=/; domain=.google.com; Secure; HttpOnly; SameSite=none', 'Alt-Svc': 'h3=\":443\"; ma=2592000,h3-29=\":443\"; ma=2592000,h3-Q050=\":443\"; ma=2592000,h3-Q046=\":443\"; ma=2592000,h3-Q043=\":443\"; ma=2592000,quic=\":443\"; ma=2592000; v=\"46,43\"', 'Transfer-Encoding': 'chunked'}"
      ]
     },
     "execution_count": 20,
     "metadata": {},
     "output_type": "execute_result"
    }
   ],
   "source": [
    "response.headers\n"
   ]
  },
  {
   "cell_type": "code",
   "execution_count": 27,
   "id": "f1bcbb33",
   "metadata": {},
   "outputs": [
    {
     "data": {
      "text/plain": [
       "'<!doctype html><html lang=\"en\"><head><meta charset=\"UTF-8\"><meta content=\"origin\" name=\"referrer\"> <link href=\"/searchdomaincheck?format=opensearch\" title=\"Google Search\" rel=\"search\" type=\"application/opensearchdescription+xml\"> <meta content=\"/images/branding/googleg/1x/googleg_standard_color_128dp.png\" itemprop=\"image\"><title>python for seo - Google Search</title><script nonce=\"Rbgklb-P_u-qsWtiOKyf7A\">(function(){\\ndocument.documentElement.addEventListener(\"submit\",function(b){var a;if(a=b.target){var c=a.getAttribute(\"data-submitfalse\");a=\"1\"===c||\"q\"===c&&!a.elements.q.value?!0:!1}else a=!1;a&&(b.preventDefault(),b.stopPropagation())},!0);document.documentElement.addEventListener(\"click\",function(b){var a;a:{for(a=b.target;a&&a!==document.documentElement;a=a.parentElement)if(\"A\"===a.tagName){a=\"1\"===a.getAttribute(\"data-nohref\");break a}a=!1}a&&b.preventDefault()},!0);}).call(this);(function(){var a=window.performance;window.start=Date.now();a:{var b=window;if(a){var c=a.timing;if('"
      ]
     },
     "execution_count": 27,
     "metadata": {},
     "output_type": "execute_result"
    }
   ],
   "source": [
    "# get the html page\n",
    "html_response = response.text\n",
    "\n",
    "# preview\n",
    "first_n_characters = 1000\n",
    "html_response[0:first_n_characters]"
   ]
  },
  {
   "cell_type": "code",
   "execution_count": 28,
   "id": "79831aa6",
   "metadata": {},
   "outputs": [],
   "source": [
    "#Beautiful Soup \n",
    "from bs4 import BeautifulSoup \n",
    "import requests \n",
    "\n",
    "soup = BeautifulSoup(html_response, \"html.parser\")\n"
   ]
  },
  {
   "cell_type": "code",
   "execution_count": 29,
   "id": "b495e98c",
   "metadata": {},
   "outputs": [
    {
     "name": "stdout",
     "output_type": "stream",
     "text": [
      "Python for SEO: Complete Guide (in 8 Chapters) - JC Chouinard\n",
      "\n",
      "Using Python scripts to analyse SEO and broken links on your site\n",
      "\n",
      "An Introduction To Python & Machine Learning For Technical SEO\n",
      "\n",
      "6 SEO Tasks to Automate with Python - Search Engine Journal\n",
      "\n",
      "Python Scripts for SEOs - Daniel Heredia\n",
      "\n",
      "Learn Python for Better SEO: Here's How - Rank Ranger\n",
      "\n",
      "importSEM: Python SEO Scripts for Analysis and Automation\n",
      "\n",
      "sethblack/python-seo-analyzer - GitHub\n",
      "\n",
      "Using Python for SEO: A Beginner's Guide - SEORadar\n",
      "\n",
      "19 Python SEO projects that will improve your site\n",
      "\n"
     ]
    }
   ],
   "source": [
    "# extract all the search results\n",
    "\n",
    "# soup.find.all( h3 ) to grab \n",
    "# all major headings of our search result,\n",
    "heading_object=soup.find_all( 'h3' )\n",
    "  \n",
    "# Iterate through the object \n",
    "# and print it as a string.\n",
    "for info in heading_object:\n",
    "    print(info.getText())\n",
    "    print()"
   ]
  }
 ],
 "metadata": {
  "kernelspec": {
   "display_name": "Python 3 (ipykernel)",
   "language": "python",
   "name": "python3"
  },
  "language_info": {
   "codemirror_mode": {
    "name": "ipython",
    "version": 3
   },
   "file_extension": ".py",
   "mimetype": "text/x-python",
   "name": "python",
   "nbconvert_exporter": "python",
   "pygments_lexer": "ipython3",
   "version": "3.10.6"
  }
 },
 "nbformat": 4,
 "nbformat_minor": 5
}
