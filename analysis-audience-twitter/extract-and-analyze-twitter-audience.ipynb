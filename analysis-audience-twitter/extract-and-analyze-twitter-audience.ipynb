{
 "cells": [
  {
   "cell_type": "markdown",
   "id": "53a1a34b",
   "metadata": {},
   "source": [
    "# Bulk Extract Twitter User Stats\n",
    "\n",
    "Pull list of Twitter users and their stats. Including:\n",
    "- people you follow\n",
    "\n",
    "### About Alton\n",
    "Follow me for more data and tutorials\n",
    "- twitter: https://twitter.com/alton_lex @alton_lex\n",
    "- linkedin: https://www.linkedin.com/in/altonalexander/"
   ]
  },
  {
   "cell_type": "code",
   "execution_count": null,
   "id": "d9076300",
   "metadata": {},
   "outputs": [],
   "source": []
  }
 ],
 "metadata": {
  "kernelspec": {
   "display_name": "Python 3 (ipykernel)",
   "language": "python",
   "name": "python3"
  },
  "language_info": {
   "codemirror_mode": {
    "name": "ipython",
    "version": 3
   },
   "file_extension": ".py",
   "mimetype": "text/x-python",
   "name": "python",
   "nbconvert_exporter": "python",
   "pygments_lexer": "ipython3",
   "version": "3.10.6"
  }
 },
 "nbformat": 4,
 "nbformat_minor": 5
}
