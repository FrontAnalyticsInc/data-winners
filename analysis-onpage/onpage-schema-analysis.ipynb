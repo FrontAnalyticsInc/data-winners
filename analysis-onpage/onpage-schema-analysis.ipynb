{
 "cells": [
  {
   "cell_type": "markdown",
   "id": "52d321d1",
   "metadata": {},
   "source": [
    "# Schema analysis in Bulk\n",
    "\n",
    "\n",
    "The primary goal is to write great content annotated with schema markup\n",
    "\n",
    "- Remember your customers and quality content come first\n",
    "\n",
    "- Use schematic markup to convey information about the pages\n",
    "\n",
    "\n",
    "### About Alton\n",
    "\n",
    "Follow me for more data and tutorials\n",
    "\n",
    "- twitter: https://twitter.com/alton_lex @alton_lex\n",
    "\n",
    "- linkedin: https://www.linkedin.com/in/altonalexander/\n",
    "\n",
    "\n",
    "### About Data Winners\n",
    "\n",
    "Join the conversation:\n",
    "\n",
    "- private Discord community\n",
    "\n",
    "- Video tutorials\n",
    "\n",
    "- Feedback and support on this and other scripts\n",
    "\n",
    "Join now: https://datawinners.gumroad.com/l/data-analytics-for-seo\n"
   ]
  },
  {
   "cell_type": "markdown",
   "id": "38ce370e",
   "metadata": {},
   "source": [
    "# Setup Environment"
   ]
  },
  {
   "cell_type": "code",
   "execution_count": 3,
   "id": "0fbb76fa",
   "metadata": {},
   "outputs": [
    {
     "name": "stdout",
     "output_type": "stream",
     "text": [
      "Defaulting to user installation because normal site-packages is not writeable\n",
      "Collecting extruct\n",
      "  Downloading extruct-0.14.0-py2.py3-none-any.whl (25 kB)\n",
      "Requirement already satisfied: w3lib in /home/alton/.local/lib/python3.10/site-packages (from extruct) (2.1.1)\n",
      "Collecting pyrdfa3\n",
      "  Using cached pyRdfa3-3.5.3-py3-none-any.whl (121 kB)\n",
      "Requirement already satisfied: lxml in /usr/lib/python3/dist-packages (from extruct) (4.8.0)\n",
      "Collecting jstyleson\n",
      "  Using cached jstyleson-0.0.2-py3-none-any.whl\n",
      "Collecting html-text>=0.5.1\n",
      "  Using cached html_text-0.5.2-py2.py3-none-any.whl (7.5 kB)\n",
      "Collecting mf2py\n",
      "  Using cached mf2py-1.1.2-py3-none-any.whl\n",
      "Collecting rdflib>=6.0.0\n",
      "  Using cached rdflib-6.2.0-py3-none-any.whl (500 kB)\n",
      "Requirement already satisfied: six in /usr/lib/python3/dist-packages (from extruct) (1.16.0)\n",
      "Requirement already satisfied: pyparsing in /usr/lib/python3/dist-packages (from rdflib>=6.0.0->extruct) (2.4.7)\n",
      "Collecting isodate\n",
      "  Using cached isodate-0.6.1-py2.py3-none-any.whl (41 kB)\n",
      "Requirement already satisfied: setuptools in /usr/lib/python3/dist-packages (from rdflib>=6.0.0->extruct) (59.6.0)\n",
      "Requirement already satisfied: BeautifulSoup4>=4.6.0 in /home/alton/.local/lib/python3.10/site-packages (from mf2py->extruct) (4.9.3)\n",
      "Requirement already satisfied: html5lib>=1.0.1 in /usr/lib/python3/dist-packages (from mf2py->extruct) (1.1)\n",
      "Requirement already satisfied: requests>=2.18.4 in /usr/lib/python3/dist-packages (from mf2py->extruct) (2.25.1)\n",
      "Requirement already satisfied: soupsieve>1.2 in /usr/lib/python3/dist-packages (from BeautifulSoup4>=4.6.0->mf2py->extruct) (2.3.1)\n",
      "Installing collected packages: jstyleson, isodate, html-text, rdflib, mf2py, pyrdfa3, extruct\n",
      "Successfully installed extruct-0.14.0 html-text-0.5.2 isodate-0.6.1 jstyleson-0.0.2 mf2py-1.1.2 pyrdfa3-3.5.3 rdflib-6.2.0\n",
      "\n",
      "\u001b[1m[\u001b[0m\u001b[34;49mnotice\u001b[0m\u001b[1;39;49m]\u001b[0m\u001b[39;49m A new release of pip available: \u001b[0m\u001b[31;49m22.2.2\u001b[0m\u001b[39;49m -> \u001b[0m\u001b[32;49m23.0.1\u001b[0m\n",
      "\u001b[1m[\u001b[0m\u001b[34;49mnotice\u001b[0m\u001b[1;39;49m]\u001b[0m\u001b[39;49m To update, run: \u001b[0m\u001b[32;49mpython3 -m pip install --upgrade pip\u001b[0m\n",
      "Note: you may need to restart the kernel to use updated packages.\n"
     ]
    }
   ],
   "source": [
    "%pip install extruct"
   ]
  },
  {
   "cell_type": "code",
   "execution_count": 4,
   "id": "9888cf5c",
   "metadata": {},
   "outputs": [],
   "source": [
    "# setup libraries\n",
    "\n",
    "import pandas as pd\n",
    "import extruct\n",
    "import requests\n",
    "from w3lib.html import get_base_url\n",
    "from urllib.parse import urlparse\n",
    "from pprint import pprint"
   ]
  },
  {
   "cell_type": "markdown",
   "id": "d01325ad",
   "metadata": {},
   "source": [
    "# Extract schema from one page"
   ]
  },
  {
   "cell_type": "code",
   "execution_count": 138,
   "id": "5d5cdc38",
   "metadata": {},
   "outputs": [],
   "source": [
    "def extract_schema(url):\n",
    "    \"\"\"Extract all metadata present in the page and return a dictionary of metadata lists. \n",
    "    \n",
    "    Args:\n",
    "        url (string): URL of page from which to extract metadata. \n",
    "    \n",
    "    Returns: \n",
    "        metadata (dict): Dictionary of json-ld, microdata, and opengraph lists. \n",
    "        Each of the lists present within the dictionary contains multiple dictionaries.\n",
    "    \"\"\"\n",
    "    \n",
    "    try:\n",
    "        r = requests.get(url)\n",
    "        base_url = get_base_url(r.text, r.url)\n",
    "        metadata = extruct.extract(r.text, \n",
    "                                   base_url=base_url,\n",
    "                                   uniform=True,\n",
    "                                   syntaxes=['json-ld',\n",
    "                                             'microdata',\n",
    "                                             'opengraph'])\n",
    "        return metadata\n",
    "    except:\n",
    "        return {}"
   ]
  },
  {
   "cell_type": "code",
   "execution_count": 139,
   "id": "237676d6",
   "metadata": {},
   "outputs": [
    {
     "data": {
      "text/plain": [
       "{'microdata': [{'value': '',\n",
       "   '@type': 'WebPageElement',\n",
       "   '@context': 'https://schema.org'}],\n",
       " 'json-ld': [{'@context': 'https://schema.org',\n",
       "   '@graph': [{'@type': 'WebSite',\n",
       "     '@id': 'https://bikelanes.com#website',\n",
       "     'url': 'https://bikelanes.com',\n",
       "     'name': 'Bike Lanes',\n",
       "     'inLanguage': 'en-US'},\n",
       "    {'@type': 'WebPage',\n",
       "     '@id': 'https://bikelanes.com/seattle/#webpage',\n",
       "     'url': 'https://bikelanes.com/seattle/',\n",
       "     'name': 'Bike lanes in Seattle',\n",
       "     'mainContentOfPage': {'@type': 'WebPageElement',\n",
       "      'xpath': \"//*[@id='mainContentOfPage']\"},\n",
       "     'datePublished': '2021-03-27',\n",
       "     'dateModified': '2022-01-08',\n",
       "     'keywords': '{location} bike lanes,bike routes in {location},{location} bike routes,bike routes near me,bike lanes near me,bike lanes in {location}',\n",
       "     'isPartOf': {'@id': 'https://bikelanes.com#website'},\n",
       "     'breadcrumb': {'@id': 'https://bikelanes.com/seattle/#breadcrumb'},\n",
       "     'inLanguage': 'en-US',\n",
       "     'potentialAction': [{'@type': 'ReadAction',\n",
       "       'target': ['https://bikelanes.com/seattle/']}]},\n",
       "    {'@type': 'BreadcrumbList',\n",
       "     '@id': 'https://bikelanes.com/seattle/#breadcrumb',\n",
       "     'itemListElement': [{'@type': 'ListItem',\n",
       "       'position': 1,\n",
       "       'item': {'@type': 'WebSite',\n",
       "        '@id': 'https://bikelanes.com#website',\n",
       "        'url': 'https://bikelanes.com',\n",
       "        'name': 'Bike Lanes'}},\n",
       "      {'@type': 'ListItem',\n",
       "       'position': 2,\n",
       "       'item': {'@type': 'WebPage',\n",
       "        '@id': 'https://bikelanes.com/seattle/#webpage',\n",
       "        'url': 'https://bikelanes.com/seattle/',\n",
       "        'name': 'Bike lanes in Seattle',\n",
       "        'hasPart': {'@id': 'https://bikelanes.com/seattle/#article',\n",
       "         '@type': 'Article'}}}]}]},\n",
       "  {'@id': 'https://bikelanes.com/seattle/#article',\n",
       "   '@context': 'http://schema.org',\n",
       "   '@type': 'Article',\n",
       "   'isPartOf': {'@type': 'WebPage', '@id': 'https://bikelanes.com/seattle/'},\n",
       "   'name': 'Bike lanes in Seattle',\n",
       "   'datePublished': '2021-03-27',\n",
       "   'keywords': '{location} bike lanes,bike routes in {location},{location} bike routes,bike routes near me,bike lanes near me,bike lanes in {location}',\n",
       "   'dateModified': '2022-01-08',\n",
       "   'headline': 'Bike lanes in Seattle',\n",
       "   'url': 'https://bikelanes.com/seattle/',\n",
       "   'publisher': {'@type': 'Organization',\n",
       "    'name': 'Bike Lanes',\n",
       "    'url': 'https://bikelanes.com'}}],\n",
       " 'opengraph': [{'og:url': 'https://bikelanes.com/seattle/',\n",
       "   'og:title': 'Bike lanes in Seattle',\n",
       "   'og:description': 'Seattle is a lovely place to take the bike lane. If you are curious about bike routes near me then look no further.',\n",
       "   '@type': 'article',\n",
       "   '@context': {'og': 'http://ogp.me/ns#'}}]}"
      ]
     },
     "execution_count": 139,
     "metadata": {},
     "output_type": "execute_result"
    }
   ],
   "source": [
    "# test on one domain\n",
    "\n",
    "url = \"https://bikelanes.com/seattle\"\n",
    "\n",
    "schema_json = extract_schema( url )\n",
    "\n",
    "schema_json"
   ]
  },
  {
   "cell_type": "markdown",
   "id": "0d5f38f6",
   "metadata": {},
   "source": [
    "# Get just one schema item"
   ]
  },
  {
   "cell_type": "code",
   "execution_count": 89,
   "id": "d1952c68",
   "metadata": {},
   "outputs": [],
   "source": [
    "def get_dictionary_by_key_value(dictionary, target_key, target_value):\n",
    "    \"\"\"Return a dictionary that contains a target key value pair. \n",
    "    \n",
    "    Args:\n",
    "        dictionary: Metadata dictionary containing lists of other dictionaries.\n",
    "        target_key: Target key to search for within a dictionary inside a list. \n",
    "        target_value: Target value to search for within a dictionary inside a list. \n",
    "    \n",
    "    Returns:\n",
    "        target_dictionary: Target dictionary that contains target key value pair. \n",
    "    \"\"\"\n",
    "    \n",
    "    if isinstance(dictionary, list):\n",
    "        for eachitem in dictionary:\n",
    "            found = get_dictionary_by_key_value(eachitem, target_key, target_value)\n",
    "            if found:\n",
    "                return found\n",
    "    \n",
    "    if not isinstance( dictionary, dict):\n",
    "        return None\n",
    "    \n",
    "    # check if it is at first level?\n",
    "    if dictionary.get(target_key) == target_value:\n",
    "        return dictionary\n",
    "        \n",
    "    for key in dictionary:\n",
    "        if len(dictionary[key]) > 0:\n",
    "            \n",
    "            if isinstance(dictionary[key], list):\n",
    "                for item in dictionary[key]:\n",
    "                    \n",
    "                    if isinstance(item, list):\n",
    "                        for eachitem in item:\n",
    "                            get_dictionary_by_key_value(eachitem, target_key, target_value)\n",
    "\n",
    "    \n",
    "                    if isinstance( item, dict):\n",
    "                        if item.get(target_key) == target_value:\n",
    "                            return item\n",
    "\n",
    "\n",
    "                        # crawl deeper\n",
    "                        for item2 in item:\n",
    "\n",
    "                            nested = item[item2]\n",
    "\n",
    "                            found = get_dictionary_by_key_value(nested, target_key, target_value)\n",
    "                            if found:\n",
    "                                return found\n",
    "                            \n",
    "                            if isinstance( item2, list):\n",
    "                                print(\"#### list\", item)\n",
    "                    \n",
    "    return None"
   ]
  },
  {
   "cell_type": "code",
   "execution_count": 91,
   "id": "94a51f4d",
   "metadata": {
    "scrolled": false
   },
   "outputs": [
    {
     "data": {
      "text/plain": [
       "{'@type': 'BreadcrumbList',\n",
       " '@id': 'https://bikelanes.com/seattle/#breadcrumb',\n",
       " 'itemListElement': [{'@type': 'ListItem',\n",
       "   'position': 1,\n",
       "   'item': {'@type': 'WebSite',\n",
       "    '@id': 'https://bikelanes.com#website',\n",
       "    'url': 'https://bikelanes.com',\n",
       "    'name': 'Bike Lanes'}},\n",
       "  {'@type': 'ListItem',\n",
       "   'position': 2,\n",
       "   'item': {'@type': 'WebPage',\n",
       "    '@id': 'https://bikelanes.com/seattle/#webpage',\n",
       "    'url': 'https://bikelanes.com/seattle/',\n",
       "    'name': 'Bike lanes in Seattle',\n",
       "    'hasPart': {'@id': 'https://bikelanes.com/seattle/#article',\n",
       "     '@type': 'Article'}}}]}"
      ]
     },
     "execution_count": 91,
     "metadata": {},
     "output_type": "execute_result"
    }
   ],
   "source": [
    "# test\n",
    "\n",
    "BreadcrumbList = get_dictionary_by_key_value(schema_json, \"@type\", \"BreadcrumbList\")\n",
    "BreadcrumbList"
   ]
  },
  {
   "cell_type": "markdown",
   "id": "b8f3f1bd",
   "metadata": {},
   "source": [
    "# Find all types"
   ]
  },
  {
   "cell_type": "code",
   "execution_count": 120,
   "id": "92e96111",
   "metadata": {},
   "outputs": [
    {
     "data": {
      "text/plain": [
       "['BreadcrumbList',\n",
       " 'WebSite',\n",
       " 'WebPageElement',\n",
       " 'WebPage',\n",
       " 'Organization',\n",
       " 'Article',\n",
       " 'article']"
      ]
     },
     "execution_count": 120,
     "metadata": {},
     "output_type": "execute_result"
    }
   ],
   "source": [
    "# find all types\n",
    "\n",
    "def find_all(dictionary, target_key, targets_found=[]):\n",
    "    \"\"\"\n",
    "    Return a list of values for the target key \n",
    "    \"\"\"\n",
    "    \n",
    "    if isinstance(dictionary, list):\n",
    "        for eachitem in dictionary:\n",
    "            found = find_all(eachitem, target_key)\n",
    "            if found:\n",
    "                targets_found.extend(found)\n",
    "    \n",
    "    if not isinstance( dictionary, dict):\n",
    "        return None\n",
    "    \n",
    "    # check if it is at first level?\n",
    "    if dictionary.get(target_key):\n",
    "        return [dictionary.get(target_key)]\n",
    "        \n",
    "    for key in dictionary:\n",
    "        if len(dictionary[key]) > 0:\n",
    "            \n",
    "            if isinstance(dictionary[key], list):\n",
    "                for item in dictionary[key]:\n",
    "                    \n",
    "                    if isinstance(item, list):\n",
    "                        for eachitem in item:\n",
    "                            find_all(eachitem, target_key)\n",
    "\n",
    "    \n",
    "                    if isinstance( item, dict):\n",
    "                        if item.get(target_key):\n",
    "                            targets_found.extend([item.get(target_key)])\n",
    "\n",
    "\n",
    "                        # crawl deeper\n",
    "                        for item2 in item:\n",
    "\n",
    "                            nested = item[item2]\n",
    "\n",
    "                            found = find_all(nested, target_key)\n",
    "                            if found:\n",
    "                                targets_found.extend(found)\n",
    "                            \n",
    "                            if isinstance( item2, list):\n",
    "                                print(\"#### list\", item)\n",
    "                    \n",
    "    return list(set(targets_found))\n",
    "\n",
    "found = find_all(schema_json, \"@type\")\n",
    "found"
   ]
  },
  {
   "cell_type": "markdown",
   "id": "65f3f27e",
   "metadata": {},
   "source": [
    "# Bulk extract schema from serp"
   ]
  },
  {
   "cell_type": "code",
   "execution_count": 121,
   "id": "0b606c58",
   "metadata": {},
   "outputs": [
    {
     "name": "stdout",
     "output_type": "stream",
     "text": [
      "Defaulting to user installation because normal site-packages is not writeable\n",
      "Requirement already satisfied: googlesearch-python in /home/alton/.local/lib/python3.10/site-packages (1.1.0)\n",
      "Requirement already satisfied: requests==2.25.1 in /usr/lib/python3/dist-packages (from googlesearch-python) (2.25.1)\n",
      "Requirement already satisfied: beautifulsoup4==4.9.3 in /home/alton/.local/lib/python3.10/site-packages (from googlesearch-python) (4.9.3)\n",
      "Requirement already satisfied: soupsieve>1.2 in /usr/lib/python3/dist-packages (from beautifulsoup4==4.9.3->googlesearch-python) (2.3.1)\n",
      "\n",
      "\u001b[1m[\u001b[0m\u001b[34;49mnotice\u001b[0m\u001b[1;39;49m]\u001b[0m\u001b[39;49m A new release of pip available: \u001b[0m\u001b[31;49m22.2.2\u001b[0m\u001b[39;49m -> \u001b[0m\u001b[32;49m23.0.1\u001b[0m\n",
      "\u001b[1m[\u001b[0m\u001b[34;49mnotice\u001b[0m\u001b[1;39;49m]\u001b[0m\u001b[39;49m To update, run: \u001b[0m\u001b[32;49mpython3 -m pip install --upgrade pip\u001b[0m\n"
     ]
    }
   ],
   "source": [
    "# get the libraries\n",
    "!pip install googlesearch-python"
   ]
  },
  {
   "cell_type": "code",
   "execution_count": 122,
   "id": "9d3a0bb1",
   "metadata": {},
   "outputs": [],
   "source": [
    "import requests\n",
    "from googlesearch import search\n",
    "from bs4 import BeautifulSoup"
   ]
  },
  {
   "cell_type": "code",
   "execution_count": 127,
   "id": "1d2ec7d9",
   "metadata": {},
   "outputs": [],
   "source": [
    "# run the query\n",
    "\n",
    "query = \"bike lanes\"\n",
    "results_generator = search(query, num_results=10, lang=\"en\")\n"
   ]
  },
  {
   "cell_type": "code",
   "execution_count": 128,
   "id": "5df3c827",
   "metadata": {},
   "outputs": [
    {
     "name": "stdout",
     "output_type": "stream",
     "text": [
      "https://nacto.org/publication/urban-bikeway-design-guide/bike-lanes/\n",
      "https://www.bikeleague.org/content/bike-lanes\n",
      "https://orem.org/wp-content/uploads/2020/05/CityTrailsAndBikeLanes.pdf\n",
      "https://maps.provo.org/downloads/Trails_Map.pdf\n",
      "https://www.peopleforbikes.org/reports/protected-bikes-lanes-101\n",
      "https://www.stronggo.com/blog/6-benefits-bike-lanes\n",
      "https://www.shmoop.com/drivers-ed/utah/bicycle-lanes.html\n",
      "https://portal.ct.gov/-/media/DOT/PLNG_PLANS/BikePedPlan/driver_pamphlet_pi.pdf\n",
      "https://www.peopleforbikes.org/reports/protected-bikes-lanes-101\n",
      "https://maps.provo.org/downloads/Trails_Map.pdf\n",
      "https://portal.ct.gov/-/media/DOT/PLNG_PLANS/BikePedPlan/driver_pamphlet_pi.pdf\n"
     ]
    },
    {
     "data": {
      "text/plain": [
       "{'https://nacto.org/publication/urban-bikeway-design-guide/bike-lanes/': {'url': 'https://nacto.org/publication/urban-bikeway-design-guide/bike-lanes/',\n",
       "  'rank': 0,\n",
       "  'q': 'bike lanes'},\n",
       " 'https://www.bikeleague.org/content/bike-lanes': {'url': 'https://www.bikeleague.org/content/bike-lanes',\n",
       "  'rank': 1,\n",
       "  'q': 'bike lanes'},\n",
       " 'https://orem.org/wp-content/uploads/2020/05/CityTrailsAndBikeLanes.pdf': {'url': 'https://orem.org/wp-content/uploads/2020/05/CityTrailsAndBikeLanes.pdf',\n",
       "  'rank': 2,\n",
       "  'q': 'bike lanes'},\n",
       " 'https://maps.provo.org/downloads/Trails_Map.pdf': {'url': 'https://maps.provo.org/downloads/Trails_Map.pdf',\n",
       "  'rank': 3,\n",
       "  'q': 'bike lanes'},\n",
       " 'https://www.peopleforbikes.org/reports/protected-bikes-lanes-101': {'url': 'https://www.peopleforbikes.org/reports/protected-bikes-lanes-101',\n",
       "  'rank': 4,\n",
       "  'q': 'bike lanes'},\n",
       " 'https://www.stronggo.com/blog/6-benefits-bike-lanes': {'url': 'https://www.stronggo.com/blog/6-benefits-bike-lanes',\n",
       "  'rank': 5,\n",
       "  'q': 'bike lanes'},\n",
       " 'https://www.shmoop.com/drivers-ed/utah/bicycle-lanes.html': {'url': 'https://www.shmoop.com/drivers-ed/utah/bicycle-lanes.html',\n",
       "  'rank': 6,\n",
       "  'q': 'bike lanes'},\n",
       " 'https://portal.ct.gov/-/media/DOT/PLNG_PLANS/BikePedPlan/driver_pamphlet_pi.pdf': {'url': 'https://portal.ct.gov/-/media/DOT/PLNG_PLANS/BikePedPlan/driver_pamphlet_pi.pdf',\n",
       "  'rank': 7,\n",
       "  'q': 'bike lanes'}}"
      ]
     },
     "execution_count": 128,
     "metadata": {},
     "output_type": "execute_result"
    }
   ],
   "source": [
    "\n",
    "# loop over the generator and save to a dictionary\n",
    "results = {}\n",
    "\n",
    "i = 0\n",
    "for link in list(results_generator):\n",
    "    print(link)\n",
    "    if link not in results:\n",
    "        # add link the first time\n",
    "        results[ link ] = {\n",
    "            \"url\": link,\n",
    "            \"rank\": i,\n",
    "            \"q\": query\n",
    "        }\n",
    "    i = i+1\n",
    "\n",
    "results"
   ]
  },
  {
   "cell_type": "code",
   "execution_count": 147,
   "id": "080d0d57",
   "metadata": {
    "scrolled": false
   },
   "outputs": [
    {
     "name": "stdout",
     "output_type": "stream",
     "text": [
      "{'q': 'bike lanes',\n",
      " 'rank': 0,\n",
      " 'schema_types': ['WebSite',\n",
      "                  'BreadcrumbList',\n",
      "                  'WebPageElement',\n",
      "                  'ListItem',\n",
      "                  'WebPage',\n",
      "                  'Organization',\n",
      "                  'Article',\n",
      "                  'CreativeWork',\n",
      "                  'article'],\n",
      " 'url': 'https://nacto.org/publication/urban-bikeway-design-guide/bike-lanes/'}\n",
      "\n",
      "{'q': 'bike lanes',\n",
      " 'rank': 1,\n",
      " 'schema_types': ['WebSite',\n",
      "                  'BreadcrumbList',\n",
      "                  'ListItem',\n",
      "                  'WebPageElement',\n",
      "                  'WebPage',\n",
      "                  'Organization',\n",
      "                  'Article',\n",
      "                  'CreativeWork',\n",
      "                  'article'],\n",
      " 'url': 'https://www.bikeleague.org/content/bike-lanes'}\n",
      "\n",
      "{'q': 'bike lanes',\n",
      " 'rank': 2,\n",
      " 'schema_types': [],\n",
      " 'url': 'https://orem.org/wp-content/uploads/2020/05/CityTrailsAndBikeLanes.pdf'}\n",
      "\n",
      "{'q': 'bike lanes',\n",
      " 'rank': 3,\n",
      " 'schema_types': [],\n",
      " 'url': 'https://maps.provo.org/downloads/Trails_Map.pdf'}\n",
      "\n",
      "{'q': 'bike lanes',\n",
      " 'rank': 4,\n",
      " 'schema_types': [],\n",
      " 'url': 'https://www.peopleforbikes.org/reports/protected-bikes-lanes-101'}\n",
      "\n",
      "{'q': 'bike lanes',\n",
      " 'rank': 5,\n",
      " 'schema_types': [],\n",
      " 'url': 'https://www.stronggo.com/blog/6-benefits-bike-lanes'}\n",
      "\n",
      "{'q': 'bike lanes',\n",
      " 'rank': 6,\n",
      " 'schema_types': [],\n",
      " 'url': 'https://www.shmoop.com/drivers-ed/utah/bicycle-lanes.html'}\n",
      "\n",
      "{'q': 'bike lanes',\n",
      " 'rank': 7,\n",
      " 'schema_types': [],\n",
      " 'url': 'https://portal.ct.gov/-/media/DOT/PLNG_PLANS/BikePedPlan/driver_pamphlet_pi.pdf'}\n",
      "\n"
     ]
    }
   ],
   "source": [
    "# get the schema type for each one\n",
    "\n",
    "for url in results:\n",
    "    schema_json = extract_schema( url )\n",
    "    results[url]['schema_types'] = find_all(schema_json, \"@type\", [])\n",
    "    pprint(results[url])\n",
    "    print()\n"
   ]
  }
 ],
 "metadata": {
  "kernelspec": {
   "display_name": "Python 3 (ipykernel)",
   "language": "python",
   "name": "python3"
  },
  "language_info": {
   "codemirror_mode": {
    "name": "ipython",
    "version": 3
   },
   "file_extension": ".py",
   "mimetype": "text/x-python",
   "name": "python",
   "nbconvert_exporter": "python",
   "pygments_lexer": "ipython3",
   "version": "3.10.6"
  }
 },
 "nbformat": 4,
 "nbformat_minor": 5
}
