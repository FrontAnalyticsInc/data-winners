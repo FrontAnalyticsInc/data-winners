{
 "cells": [
  {
   "cell_type": "markdown",
   "id": "1ebd89ce",
   "metadata": {},
   "source": [
    "# Ecommerce Product Analysis\n",
    "\n",
    "Download product reivews.\n",
    "\n",
    "Summarize benefits, features, and emotions\n",
    "\n",
    "\n",
    "\n",
    "---\n",
    "\n",
    "### About Alton\n",
    "\n",
    "Follow me for more data and tutorials\n",
    "\n",
    "- twitter: https://twitter.com/alton_lex @alton_lex\n",
    "\n",
    "- linkedin: https://www.linkedin.com/in/altonalexander/\n",
    "\n",
    "\n",
    "### About Data Winners\n",
    "\n",
    "Join the conversation:\n",
    "\n",
    "- private Discord community\n",
    "\n",
    "- Video tutorials\n",
    "\n",
    "- Feedback and support on this and other scripts\n",
    "\n",
    "Join now: https://datawinners.gumroad.com/l/data-analytics-for-seo"
   ]
  },
  {
   "cell_type": "markdown",
   "id": "12e3713d",
   "metadata": {},
   "source": [
    "# Import Libraries"
   ]
  },
  {
   "cell_type": "code",
   "execution_count": 98,
   "id": "d920bd65",
   "metadata": {},
   "outputs": [
    {
     "name": "stdout",
     "output_type": "stream",
     "text": [
      "Defaulting to user installation because normal site-packages is not writeable\n",
      "Requirement already satisfied: bs4 in /home/alton/.local/lib/python3.10/site-packages (0.0.1)\n",
      "Requirement already satisfied: beautifulsoup4 in /home/alton/.local/lib/python3.10/site-packages (from bs4) (4.9.3)\n",
      "Requirement already satisfied: soupsieve>1.2 in /usr/lib/python3/dist-packages (from beautifulsoup4->bs4) (2.3.1)\n",
      "\n",
      "\u001b[1m[\u001b[0m\u001b[34;49mnotice\u001b[0m\u001b[1;39;49m]\u001b[0m\u001b[39;49m A new release of pip available: \u001b[0m\u001b[31;49m22.2.2\u001b[0m\u001b[39;49m -> \u001b[0m\u001b[32;49m23.0.1\u001b[0m\n",
      "\u001b[1m[\u001b[0m\u001b[34;49mnotice\u001b[0m\u001b[1;39;49m]\u001b[0m\u001b[39;49m To update, run: \u001b[0m\u001b[32;49mpython3 -m pip install --upgrade pip\u001b[0m\n"
     ]
    }
   ],
   "source": [
    "!pip install bs4\n",
    "import requests\n",
    "from bs4 import BeautifulSoup\n",
    "import pandas as pd"
   ]
  },
  {
   "cell_type": "markdown",
   "id": "2ec7fa5f",
   "metadata": {},
   "source": [
    "# Find one product on amazon\n",
    "\n",
    "Including product and reviews"
   ]
  },
  {
   "cell_type": "code",
   "execution_count": null,
   "id": "3c64956f",
   "metadata": {},
   "outputs": [],
   "source": [
    "# inputs\n",
    "\n",
    "# my asin\n",
    "asins1 = \"B0859BZ69K\"\n",
    "\n",
    "product_title = \"Toddler Balance Bike\""
   ]
  },
  {
   "cell_type": "code",
   "execution_count": 12,
   "id": "97713471",
   "metadata": {},
   "outputs": [
    {
     "name": "stdout",
     "output_type": "stream",
     "text": [
      "Scraping reviews from https://www.amazon.com/product-reviews/B0859BZ69K/ref=cm_cr_dp_d_show_all_top?ie=UTF8&reviewerType=all_reviews\n",
      "Index([], dtype='object')\n"
     ]
    }
   ],
   "source": [
    "\n",
    "# Scrape reviews for primary ASIN and store in a dataframe\n",
    "primary_url = f\"https://www.amazon.com/product-reviews/{asins1}/ref=cm_cr_dp_d_show_all_top?ie=UTF8&reviewerType=all_reviews\"\n",
    "headers={'User-Agent': 'Mozilla/5.0 (Linux; Android 6.0; Nexus 5 Build/MRA58N) AppleWebKit/537.36 (KHTML, like Gecko) Chrome/110.0.0.0 Mobile Safari/537.36'}\n",
    "\n",
    "\n",
    "response= requests.get(primary_url, headers=headers, timeout=10)\n",
    "soup = BeautifulSoup(response.text, 'html.parser')\n"
   ]
  },
  {
   "cell_type": "code",
   "execution_count": 74,
   "id": "cb789f73",
   "metadata": {},
   "outputs": [
    {
     "data": {
      "text/plain": [
       "[{'Author': 'Cynthia DeVries',\n",
       "  'Title': 'Bike for two year old boy for balance',\n",
       "  'Date': 'February 24, 2023',\n",
       "  'Content': 'Perfect way for a 2 year old to learn to balance on a bike before riding one with the pedals and chains. Smart idea. Our Grandson Love’s 💕 it.',\n",
       "  'Rating': '5'},\n",
       " {'Author': 'Morgan Backus',\n",
       "  'Title': 'Perfect for my 2 year old!',\n",
       "  'Date': 'February 7, 2023',\n",
       "  'Content': 'We have bought balance bikes before. This one is by far my favorite. I love that it has a handle in the middle for easy carry and my 2 year old can hop on and just go! We take it everywhere with us.',\n",
       "  'Rating': '5'},\n",
       " {'Author': 'Kindle Customer',\n",
       "  'Title': 'Grandson loves it',\n",
       "  'Date': 'February 21, 2023',\n",
       "  'Content': 'Easy to put together and grandson loves it',\n",
       "  'Rating': '5'},\n",
       " {'Author': 'N',\n",
       "  'Title': 'Perfect',\n",
       "  'Date': 'February 9, 2023',\n",
       "  'Content': 'Cute bike for the price. Plus, It only took 5 minutes to assemble by myself. Wheels light up!',\n",
       "  'Rating': '5'},\n",
       " {'Author': 'Allison Vargas',\n",
       "  'Title': 'Perfect',\n",
       "  'Date': 'February 9, 2023',\n",
       "  'Content': 'Totally perfect for my 2 year old. So happy with it!',\n",
       "  'Rating': '5'},\n",
       " {'Author': 'Mac R',\n",
       "  'Title': 'Awesome Little Bike',\n",
       "  'Date': 'January 25, 2023',\n",
       "  'Content': 'I’ve purchased this for my 2.5 year old nephew. The size was perfect and it was easy to assemble. The quality is great too! He loves it',\n",
       "  'Rating': '5'},\n",
       " {'Author': 'Sterwana',\n",
       "  'Title': 'Great product',\n",
       "  'Date': 'February 1, 2023',\n",
       "  'Content': 'Easy to assemble',\n",
       "  'Rating': '5'},\n",
       " {'Author': 'G. Leatherwood',\n",
       "  'Title': 'Super sturdy',\n",
       "  'Date': 'January 19, 2023',\n",
       "  'Content': 'A great first bikeThe kids never needed training wheels when they upgraded to a pedal bike',\n",
       "  'Rating': '5'},\n",
       " {'Author': 'Grace',\n",
       "  'Title': 'Great balance bike',\n",
       "  'Date': 'December 28, 2022',\n",
       "  'Content': 'My son is almost 3 and this is perfect for him. The only negative is it’s not easy to adjust the bars and seat (you need an Allen key)',\n",
       "  'Rating': '4'},\n",
       " {'Author': 'EveryDayUser',\n",
       "  'Title': 'So close to perfection',\n",
       "  'Date': 'November 29, 2022',\n",
       "  'Content': \"The bike is REALLY good for the price, and probably the best one you could get. So, if you are considering getting one of these types of bikes for your small kiddos, I'd highly recommend this specific bike. The only...\",\n",
       "  'Rating': '5'}]"
      ]
     },
     "execution_count": 74,
     "metadata": {},
     "output_type": "execute_result"
    }
   ],
   "source": [
    "\n",
    "reviews = []\n",
    "dedup = set()\n",
    "\n",
    "\n",
    "for review in soup.find_all('div', {'class' : 'a-section'}):\n",
    "    \n",
    "\n",
    "\n",
    "        author = review.find('span', {'class': 'a-profile-name'})\n",
    "        if author:\n",
    "            author = author.string.strip()\n",
    "        else:\n",
    "            author = None\n",
    "        title = review.find('span', {'class': 'review-title-content'})\n",
    "        if title:\n",
    "            title = title.text.strip()\n",
    "        else:\n",
    "            title = None\n",
    "        #date = review.find('span', {'class': 'a-size-base a-color-secondary'}).string.strip()[3:]\n",
    "        content = review.find('span', {'class': 'review-text-sub-contents'})\n",
    "        if content:\n",
    "            content = content.text.strip()\n",
    "        else:\n",
    "            content = None\n",
    "        date = review.find('span', {'class': 'review-date'})\n",
    "        if date:\n",
    "            date = \" \".join(date.text.strip().split(\" \")[-3:])\n",
    "        else:\n",
    "            date = None\n",
    "\n",
    "        rating = review.find('span', {'class': 'a-icon-alt'})\n",
    "        if rating:\n",
    "            rating = rating.string.strip()[0]\n",
    "        else:\n",
    "            rating = None\n",
    "\n",
    "        if content and content not in dedup:\n",
    "            review_dict = {'Author': author, 'Title': title, 'Date': date, 'Content': content, 'Rating': rating}\n",
    "            reviews.append(review_dict)\n",
    "            dedup.add( content )\n",
    "\n",
    "reviews"
   ]
  },
  {
   "cell_type": "code",
   "execution_count": 75,
   "id": "7e29073d",
   "metadata": {},
   "outputs": [
    {
     "data": {
      "text/html": [
       "<div>\n",
       "<style scoped>\n",
       "    .dataframe tbody tr th:only-of-type {\n",
       "        vertical-align: middle;\n",
       "    }\n",
       "\n",
       "    .dataframe tbody tr th {\n",
       "        vertical-align: top;\n",
       "    }\n",
       "\n",
       "    .dataframe thead th {\n",
       "        text-align: right;\n",
       "    }\n",
       "</style>\n",
       "<table border=\"1\" class=\"dataframe\">\n",
       "  <thead>\n",
       "    <tr style=\"text-align: right;\">\n",
       "      <th></th>\n",
       "      <th>Author</th>\n",
       "      <th>Title</th>\n",
       "      <th>Date</th>\n",
       "      <th>Content</th>\n",
       "      <th>Rating</th>\n",
       "    </tr>\n",
       "  </thead>\n",
       "  <tbody>\n",
       "    <tr>\n",
       "      <th>0</th>\n",
       "      <td>Cynthia DeVries</td>\n",
       "      <td>Bike for two year old boy for balance</td>\n",
       "      <td>February 24, 2023</td>\n",
       "      <td>Perfect way for a 2 year old to learn to balan...</td>\n",
       "      <td>5</td>\n",
       "    </tr>\n",
       "    <tr>\n",
       "      <th>1</th>\n",
       "      <td>Morgan Backus</td>\n",
       "      <td>Perfect for my 2 year old!</td>\n",
       "      <td>February 7, 2023</td>\n",
       "      <td>We have bought balance bikes before. This one ...</td>\n",
       "      <td>5</td>\n",
       "    </tr>\n",
       "    <tr>\n",
       "      <th>2</th>\n",
       "      <td>Kindle Customer</td>\n",
       "      <td>Grandson loves it</td>\n",
       "      <td>February 21, 2023</td>\n",
       "      <td>Easy to put together and grandson loves it</td>\n",
       "      <td>5</td>\n",
       "    </tr>\n",
       "    <tr>\n",
       "      <th>3</th>\n",
       "      <td>N</td>\n",
       "      <td>Perfect</td>\n",
       "      <td>February 9, 2023</td>\n",
       "      <td>Cute bike for the price. Plus, It only took 5 ...</td>\n",
       "      <td>5</td>\n",
       "    </tr>\n",
       "    <tr>\n",
       "      <th>4</th>\n",
       "      <td>Allison Vargas</td>\n",
       "      <td>Perfect</td>\n",
       "      <td>February 9, 2023</td>\n",
       "      <td>Totally perfect for my 2 year old. So happy wi...</td>\n",
       "      <td>5</td>\n",
       "    </tr>\n",
       "    <tr>\n",
       "      <th>5</th>\n",
       "      <td>Mac R</td>\n",
       "      <td>Awesome Little Bike</td>\n",
       "      <td>January 25, 2023</td>\n",
       "      <td>I’ve purchased this for my 2.5 year old nephew...</td>\n",
       "      <td>5</td>\n",
       "    </tr>\n",
       "    <tr>\n",
       "      <th>6</th>\n",
       "      <td>Sterwana</td>\n",
       "      <td>Great product</td>\n",
       "      <td>February 1, 2023</td>\n",
       "      <td>Easy to assemble</td>\n",
       "      <td>5</td>\n",
       "    </tr>\n",
       "    <tr>\n",
       "      <th>7</th>\n",
       "      <td>G. Leatherwood</td>\n",
       "      <td>Super sturdy</td>\n",
       "      <td>January 19, 2023</td>\n",
       "      <td>A great first bikeThe kids never needed traini...</td>\n",
       "      <td>5</td>\n",
       "    </tr>\n",
       "    <tr>\n",
       "      <th>8</th>\n",
       "      <td>Grace</td>\n",
       "      <td>Great balance bike</td>\n",
       "      <td>December 28, 2022</td>\n",
       "      <td>My son is almost 3 and this is perfect for him...</td>\n",
       "      <td>4</td>\n",
       "    </tr>\n",
       "    <tr>\n",
       "      <th>9</th>\n",
       "      <td>EveryDayUser</td>\n",
       "      <td>So close to perfection</td>\n",
       "      <td>November 29, 2022</td>\n",
       "      <td>The bike is REALLY good for the price, and pro...</td>\n",
       "      <td>5</td>\n",
       "    </tr>\n",
       "  </tbody>\n",
       "</table>\n",
       "</div>"
      ],
      "text/plain": [
       "            Author                                  Title               Date  \\\n",
       "0  Cynthia DeVries  Bike for two year old boy for balance  February 24, 2023   \n",
       "1    Morgan Backus             Perfect for my 2 year old!   February 7, 2023   \n",
       "2  Kindle Customer                      Grandson loves it  February 21, 2023   \n",
       "3                N                                Perfect   February 9, 2023   \n",
       "4   Allison Vargas                                Perfect   February 9, 2023   \n",
       "5            Mac R                    Awesome Little Bike   January 25, 2023   \n",
       "6         Sterwana                          Great product   February 1, 2023   \n",
       "7   G. Leatherwood                           Super sturdy   January 19, 2023   \n",
       "8            Grace                     Great balance bike  December 28, 2022   \n",
       "9     EveryDayUser                 So close to perfection  November 29, 2022   \n",
       "\n",
       "                                             Content Rating  \n",
       "0  Perfect way for a 2 year old to learn to balan...      5  \n",
       "1  We have bought balance bikes before. This one ...      5  \n",
       "2         Easy to put together and grandson loves it      5  \n",
       "3  Cute bike for the price. Plus, It only took 5 ...      5  \n",
       "4  Totally perfect for my 2 year old. So happy wi...      5  \n",
       "5  I’ve purchased this for my 2.5 year old nephew...      5  \n",
       "6                                   Easy to assemble      5  \n",
       "7  A great first bikeThe kids never needed traini...      5  \n",
       "8  My son is almost 3 and this is perfect for him...      4  \n",
       "9  The bike is REALLY good for the price, and pro...      5  "
      ]
     },
     "execution_count": 75,
     "metadata": {},
     "output_type": "execute_result"
    }
   ],
   "source": [
    "primary_df = pd.DataFrame(reviews)\n",
    "primary_df"
   ]
  },
  {
   "cell_type": "markdown",
   "id": "274b8d84",
   "metadata": {},
   "source": [
    "# Create a list of bullet points"
   ]
  },
  {
   "cell_type": "code",
   "execution_count": 77,
   "id": "2a1fecb4",
   "metadata": {
    "scrolled": true
   },
   "outputs": [
    {
     "name": "stdout",
     "output_type": "stream",
     "text": [
      "Defaulting to user installation because normal site-packages is not writeable\n",
      "Requirement already satisfied: openai in /home/alton/.local/lib/python3.10/site-packages (0.26.1)\n",
      "Requirement already satisfied: requests>=2.20 in /usr/lib/python3/dist-packages (from openai) (2.25.1)\n",
      "Requirement already satisfied: tqdm in /home/alton/.local/lib/python3.10/site-packages (from openai) (4.64.1)\n",
      "Requirement already satisfied: aiohttp in /home/alton/.local/lib/python3.10/site-packages (from openai) (3.8.1)\n",
      "Requirement already satisfied: yarl<2.0,>=1.0 in /home/alton/.local/lib/python3.10/site-packages (from aiohttp->openai) (1.8.1)\n",
      "Requirement already satisfied: aiosignal>=1.1.2 in /home/alton/.local/lib/python3.10/site-packages (from aiohttp->openai) (1.2.0)\n",
      "Requirement already satisfied: frozenlist>=1.1.1 in /home/alton/.local/lib/python3.10/site-packages (from aiohttp->openai) (1.3.1)\n",
      "Requirement already satisfied: multidict<7.0,>=4.5 in /home/alton/.local/lib/python3.10/site-packages (from aiohttp->openai) (6.0.2)\n",
      "Requirement already satisfied: async-timeout<5.0,>=4.0.0a3 in /home/alton/.local/lib/python3.10/site-packages (from aiohttp->openai) (4.0.2)\n",
      "Requirement already satisfied: charset-normalizer<3.0,>=2.0 in /home/alton/.local/lib/python3.10/site-packages (from aiohttp->openai) (2.1.1)\n",
      "Requirement already satisfied: attrs>=17.3.0 in /home/alton/.local/lib/python3.10/site-packages (from aiohttp->openai) (22.1.0)\n",
      "Requirement already satisfied: idna>=2.0 in /usr/lib/python3/dist-packages (from yarl<2.0,>=1.0->aiohttp->openai) (3.3)\n",
      "\n",
      "\u001b[1m[\u001b[0m\u001b[34;49mnotice\u001b[0m\u001b[1;39;49m]\u001b[0m\u001b[39;49m A new release of pip available: \u001b[0m\u001b[31;49m22.2.2\u001b[0m\u001b[39;49m -> \u001b[0m\u001b[32;49m23.0.1\u001b[0m\n",
      "\u001b[1m[\u001b[0m\u001b[34;49mnotice\u001b[0m\u001b[1;39;49m]\u001b[0m\u001b[39;49m To update, run: \u001b[0m\u001b[32;49mpython3 -m pip install --upgrade pip\u001b[0m\n",
      "Note: you may need to restart the kernel to use updated packages.\n"
     ]
    }
   ],
   "source": [
    "# install libraries for openai\n",
    "%pip install openai\n",
    "\n",
    "# load libraries\n",
    "import openai\n",
    "from pprint import pprint"
   ]
  },
  {
   "cell_type": "code",
   "execution_count": 78,
   "id": "2f897a4d",
   "metadata": {},
   "outputs": [],
   "source": [
    "# Set your api key\n",
    "# copy and paste your open api key as a varible\n",
    "\n",
    "openai.api_key = \"sk-PASTEYOURKEYHERE\""
   ]
  },
  {
   "cell_type": "code",
   "execution_count": 92,
   "id": "f5174694",
   "metadata": {},
   "outputs": [],
   "source": [
    "def textgen_for_datawinners(\n",
    "        prompt,\n",
    "        model = \"text-davinci-003\",\n",
    "        max_length = 2000\n",
    "    ):\n",
    "    \"\"\" A generic wrapper for the endpoint \"\"\"\n",
    "    \n",
    "    response = openai.Completion.create(\n",
    "      model=model,\n",
    "      prompt=prompt,\n",
    "      temperature=0.7,\n",
    "      max_tokens=max_length,\n",
    "      top_p=1,\n",
    "      frequency_penalty=0,\n",
    "      presence_penalty=0\n",
    "    )\n",
    "    \n",
    "    return response.get('choices',[])[0]['text']"
   ]
  },
  {
   "cell_type": "code",
   "execution_count": 93,
   "id": "6162807b",
   "metadata": {},
   "outputs": [],
   "source": [
    "reviews_list_string = \"\"\n",
    "\n",
    "for i, row in primary_df.iterrows():\n",
    "    \n",
    "    reviews_list_string = reviews_list_string + \"\\n\\n- \" +row['Content']"
   ]
  },
  {
   "cell_type": "code",
   "execution_count": 94,
   "id": "d2e2c83c",
   "metadata": {},
   "outputs": [
    {
     "name": "stdout",
     "output_type": "stream",
     "text": [
      "Product: Toddler Balance Bike\n",
      "    Please analyze the following product reviews. List the top 5 benefits, the top 5 features, and top 5 emotional benefits consumers experience when using this product.\n",
      "\n",
      "- Perfect way for a 2 year old to learn to balance on a bike before riding one with the pedals and chains. Smart idea. Our Grandson Love’s 💕 it.\n",
      "\n",
      "- We have bought balance bikes before. This one is by far my favorite. I love that it has a handle in the middle for easy carry and my 2 year old can hop on and just go! We take it everywhere with us.\n",
      "\n",
      "- Easy to put together and grandson loves it\n",
      "\n",
      "- Cute bike for the price. Plus, It only took 5 minutes to assemble by myself. Wheels light up!\n",
      "\n",
      "- Totally perfect for my 2 year old. So happy with it!\n",
      "\n",
      "- I’ve purchased this for my 2.5 year old nephew. The size was perfect and it was easy to assemble. The quality is great too! He loves it\n",
      "\n",
      "- Easy to assemble\n",
      "\n",
      "- A great first bikeThe kids never needed training wheels when they upgraded to a pedal bike\n",
      "\n",
      "- My son is almost 3 and this is perfect for him. The only negative is it’s not easy to adjust the bars and seat (you need an Allen key)\n",
      "\n",
      "- The bike is REALLY good for the price, and probably the best one you could get. So, if you are considering getting one of these types of bikes for your small kiddos, I'd highly recommend this specific bike. The only...\n"
     ]
    }
   ],
   "source": [
    "prompt = \"\"\"Product: \"\"\"+product_title+\"\"\"\n",
    "    Please analyze the following product reviews. List the top 5 benefits, the top 5 features, and top 5 emotional benefits consumers experience when using this product.\"\"\" + reviews_list_string\n",
    "print(prompt)"
   ]
  },
  {
   "cell_type": "code",
   "execution_count": 97,
   "id": "a75372ad",
   "metadata": {},
   "outputs": [
    {
     "name": "stdout",
     "output_type": "stream",
     "text": [
      "\n",
      "\n",
      "Top 5 Benefits:\n",
      "1. Allows kids to learn to balance before riding with pedals and chains.\n",
      "2. Lightweight and easy to carry.\n",
      "3. Quick and easy assembly.\n",
      "4. Wheels light up.\n",
      "5. Perfect size for 2-2.5 year olds.\n",
      "\n",
      "Top 5 Features:\n",
      "1. Handle in the middle for easy carry.\n",
      "2. Lightweight and easy to move.\n",
      "3. Wheels light up.\n",
      "4. Adjustable bars and seat.\n",
      "5. High quality and good price.\n",
      "\n",
      "Top 5 Emotional Benefits:\n",
      "1. Grandson loves it.\n",
      "2. Kids never need training wheels.\n",
      "3. Perfect for small kiddos.\n",
      "4. Great first bike.\n",
      "5. Cute bike.\n"
     ]
    }
   ],
   "source": [
    "response = textgen_for_datawinners(prompt)\n",
    "print(response)"
   ]
  }
 ],
 "metadata": {
  "kernelspec": {
   "display_name": "Python 3 (ipykernel)",
   "language": "python",
   "name": "python3"
  },
  "language_info": {
   "codemirror_mode": {
    "name": "ipython",
    "version": 3
   },
   "file_extension": ".py",
   "mimetype": "text/x-python",
   "name": "python",
   "nbconvert_exporter": "python",
   "pygments_lexer": "ipython3",
   "version": "3.10.6"
  }
 },
 "nbformat": 4,
 "nbformat_minor": 5
}
