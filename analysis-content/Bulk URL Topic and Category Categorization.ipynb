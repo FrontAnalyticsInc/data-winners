{
 "cells": [
  {
   "cell_type": "markdown",
   "id": "83cf8fea",
   "metadata": {},
   "source": [
    "# Analyze URLS for Topic & Category\n",
    "\n",
    "\n",
    "\n",
    "### Overview\n",
    "\n",
    "Using AI and web scraping to analyze URLs in bulk\n",
    "\n",
    "\n",
    "### Free Scripts\n",
    "\n",
    "This is part of a series of free python scripts. \n",
    "\n",
    "You can find all the scripts online at https://github.com/FrontAnalyticsInc/data-winners\n",
    "\n",
    "Message me on twitter if you have any suggestions.\n",
    "\n",
    "\n",
    "### About Me\n",
    "\n",
    "My name is Alton Alexander. I am a Data Science consultant turned entreprenuer building SaaS tools for SEO.\n",
    "\n",
    "Find more about my free scripts or ask me any question on twitter: [twitter.com/@alton_lex](https://twitter.com/alton_lex)\n",
    "\n",
    "\n",
    "### Join the Course for Data Winners\n",
    "\n",
    "Join the conversation:\n",
    "\n",
    "- private Discord community\n",
    "\n",
    "- Video tutorials\n",
    "\n",
    "- Feedback and support on this and other scripts\n",
    "\n",
    "Join now: https://datawinners.gumroad.com/l/data-analytics-for-seo"
   ]
  },
  {
   "cell_type": "code",
   "execution_count": null,
   "id": "a2183958",
   "metadata": {},
   "outputs": [],
   "source": [
    "# Set your api key\n",
    "# copy and paste your open api key as a varible\n",
    "\n",
    "openai.api_key = \"sk-PASTEYOURKEYHERE\""
   ]
  },
  {
   "cell_type": "code",
   "execution_count": null,
   "id": "4f445cd2",
   "metadata": {},
   "outputs": [],
   "source": []
  },
  {
   "cell_type": "code",
   "execution_count": 45,
   "id": "cd7e7acb",
   "metadata": {},
   "outputs": [
    {
     "name": "stdout",
     "output_type": "stream",
     "text": [
      "Defaulting to user installation because normal site-packages is not writeable\n",
      "Requirement already satisfied: openai in /home/alton/.local/lib/python3.10/site-packages (0.27.8)\n",
      "Requirement already satisfied: aiohttp in /home/alton/.local/lib/python3.10/site-packages (from openai) (3.8.1)\n",
      "Requirement already satisfied: requests>=2.20 in /usr/lib/python3/dist-packages (from openai) (2.25.1)\n",
      "Requirement already satisfied: tqdm in /home/alton/.local/lib/python3.10/site-packages (from openai) (4.64.1)\n",
      "Requirement already satisfied: aiosignal>=1.1.2 in /home/alton/.local/lib/python3.10/site-packages (from aiohttp->openai) (1.2.0)\n",
      "Requirement already satisfied: attrs>=17.3.0 in /home/alton/.local/lib/python3.10/site-packages (from aiohttp->openai) (22.1.0)\n",
      "Requirement already satisfied: yarl<2.0,>=1.0 in /home/alton/.local/lib/python3.10/site-packages (from aiohttp->openai) (1.8.1)\n",
      "Requirement already satisfied: frozenlist>=1.1.1 in /home/alton/.local/lib/python3.10/site-packages (from aiohttp->openai) (1.3.1)\n",
      "Requirement already satisfied: async-timeout<5.0,>=4.0.0a3 in /home/alton/.local/lib/python3.10/site-packages (from aiohttp->openai) (4.0.2)\n",
      "Requirement already satisfied: multidict<7.0,>=4.5 in /home/alton/.local/lib/python3.10/site-packages (from aiohttp->openai) (6.0.2)\n",
      "Requirement already satisfied: charset-normalizer<3.0,>=2.0 in /home/alton/.local/lib/python3.10/site-packages (from aiohttp->openai) (2.1.1)\n",
      "Requirement already satisfied: idna>=2.0 in /usr/lib/python3/dist-packages (from yarl<2.0,>=1.0->aiohttp->openai) (3.3)\n",
      "\n",
      "\u001b[1m[\u001b[0m\u001b[34;49mnotice\u001b[0m\u001b[1;39;49m]\u001b[0m\u001b[39;49m A new release of pip available: \u001b[0m\u001b[31;49m22.2.2\u001b[0m\u001b[39;49m -> \u001b[0m\u001b[32;49m23.2.1\u001b[0m\n",
      "\u001b[1m[\u001b[0m\u001b[34;49mnotice\u001b[0m\u001b[1;39;49m]\u001b[0m\u001b[39;49m To update, run: \u001b[0m\u001b[32;49mpython3 -m pip install --upgrade pip\u001b[0m\n",
      "Note: you may need to restart the kernel to use updated packages.\n"
     ]
    }
   ],
   "source": [
    "import requests\n",
    "from bs4 import BeautifulSoup\n",
    "# install libraries\n",
    "%pip install openai\n",
    "\n",
    "# load libraries\n",
    "import openai"
   ]
  },
  {
   "cell_type": "code",
   "execution_count": null,
   "id": "e47d2d22",
   "metadata": {},
   "outputs": [],
   "source": [
    "# Set your api key\n",
    "# copy and paste your open api key as a varible\n",
    "\n",
    "openai.api_key = input()"
   ]
  },
  {
   "cell_type": "code",
   "execution_count": 97,
   "id": "7555c353",
   "metadata": {},
   "outputs": [
    {
     "name": "stdout",
     "output_type": "stream",
     "text": [
      "https://tourismhuahin.com,https://contentcurator.com,https://frontanalytics.com,https://datawinners.com\n"
     ]
    }
   ],
   "source": [
    "# enter one or more urls (comma seperated)\n",
    "\n",
    "raw_url_text = \"https://tourismhuahin.com,https://contentcurator.com,https://frontanalytics.com,https://datawinners.com\"\n",
    "raw_url_text = input()\n",
    "\n",
    "\n",
    "# convert to list\n",
    "urls = raw_url_text.split(\",\")"
   ]
  },
  {
   "cell_type": "code",
   "execution_count": 98,
   "id": "17f0004c",
   "metadata": {},
   "outputs": [
    {
     "data": {
      "text/plain": [
       "['https://tourismhuahin.com',\n",
       " 'https://contentcurator.com',\n",
       " 'https://frontanalytics.com',\n",
       " 'https://datawinners.com']"
      ]
     },
     "execution_count": 98,
     "metadata": {},
     "output_type": "execute_result"
    }
   ],
   "source": [
    "urls"
   ]
  },
  {
   "cell_type": "markdown",
   "id": "49bcc533",
   "metadata": {},
   "source": [
    "# code"
   ]
  },
  {
   "cell_type": "code",
   "execution_count": 48,
   "id": "c7149bbf",
   "metadata": {},
   "outputs": [],
   "source": [
    "\n",
    "def parse_page_to_sections_list( link ):\n",
    "    '''\n",
    "    Simple function to download the raw html of a link\n",
    "    parses contents into an array of dictionaries\n",
    "    \n",
    "    '''\n",
    "    page = requests.get(link)\n",
    "    soup = BeautifulSoup(page.text, \"lxml\")\n",
    "\n",
    "    title = soup.find(\"title\").text\n",
    "\n",
    "    headers = ['h1', 'h2', 'h3']\n",
    "\n",
    "    df_json = []\n",
    "\n",
    "    for header in headers:\n",
    "        sections = soup.find_all(header)\n",
    "\n",
    "        order = 0\n",
    "        for section in sections:\n",
    "            tmp = {\n",
    "                \"url\": link,\n",
    "                \"page_title\": title.strip(),\n",
    "                \"header\": header,\n",
    "                \"order\": order,\n",
    "                \"title\": section.text.strip()\n",
    "            }\n",
    "            df_json.append( tmp )\n",
    "            order = order +1\n",
    "\n",
    "    return title, df_json"
   ]
  },
  {
   "cell_type": "code",
   "execution_count": 49,
   "id": "d6e287b4",
   "metadata": {},
   "outputs": [
    {
     "name": "stdout",
     "output_type": "stream",
     "text": [
      "https://tourismhuahin.com\n",
      "https://contentcurator.com\n",
      "https://frontanalytics.com\n",
      "https://datawinners.com\n"
     ]
    },
    {
     "data": {
      "text/plain": [
       "{'https://tourismhuahin.com': {'title': 'Tourism Hua Hin – Discover Paradise',\n",
       "  'sections': [{'url': 'https://tourismhuahin.com',\n",
       "    'page_title': 'Tourism Hua Hin – Discover Paradise',\n",
       "    'header': 'h1',\n",
       "    'order': 0,\n",
       "    'title': 'DISCOVER PARADISE'},\n",
       "   {'url': 'https://tourismhuahin.com',\n",
       "    'page_title': 'Tourism Hua Hin – Discover Paradise',\n",
       "    'header': 'h1',\n",
       "    'order': 1,\n",
       "    'title': 'Embrace the Serenity and Bliss of Hua Hin'},\n",
       "   {'url': 'https://tourismhuahin.com',\n",
       "    'page_title': 'Tourism Hua Hin – Discover Paradise',\n",
       "    'header': 'h2',\n",
       "    'order': 0,\n",
       "    'title': 'Beautiful Temple Complex and Beach in Khao Tao'},\n",
       "   {'url': 'https://tourismhuahin.com',\n",
       "    'page_title': 'Tourism Hua Hin – Discover Paradise',\n",
       "    'header': 'h2',\n",
       "    'order': 1,\n",
       "    'title': 'Your Ultimate Guide to Thailand’s Enchanting Coastal Gem'},\n",
       "   {'url': 'https://tourismhuahin.com',\n",
       "    'page_title': 'Tourism Hua Hin – Discover Paradise',\n",
       "    'header': 'h2',\n",
       "    'order': 2,\n",
       "    'title': 'Hello world!'}]},\n",
       " 'https://contentcurator.com': {'title': 'Home',\n",
       "  'sections': [{'url': 'https://contentcurator.com',\n",
       "    'page_title': 'Home',\n",
       "    'header': 'h1',\n",
       "    'order': 0,\n",
       "    'title': 'Accelerate Your Content Strategy'},\n",
       "   {'url': 'https://contentcurator.com',\n",
       "    'page_title': 'Home',\n",
       "    'header': 'h2',\n",
       "    'order': 0,\n",
       "    'title': 'Supercharge Your Content Strategy with AI and Data'},\n",
       "   {'url': 'https://contentcurator.com',\n",
       "    'page_title': 'Home',\n",
       "    'header': 'h2',\n",
       "    'order': 1,\n",
       "    'title': 'Content Strategy Powered by Data and AI'},\n",
       "   {'url': 'https://contentcurator.com',\n",
       "    'page_title': 'Home',\n",
       "    'header': 'h2',\n",
       "    'order': 2,\n",
       "    'title': 'Accelerate Your Content Strategy'},\n",
       "   {'url': 'https://contentcurator.com',\n",
       "    'page_title': 'Home',\n",
       "    'header': 'h3',\n",
       "    'order': 0,\n",
       "    'title': 'Keyword Research'},\n",
       "   {'url': 'https://contentcurator.com',\n",
       "    'page_title': 'Home',\n",
       "    'header': 'h3',\n",
       "    'order': 1,\n",
       "    'title': 'Topic Clustering'},\n",
       "   {'url': 'https://contentcurator.com',\n",
       "    'page_title': 'Home',\n",
       "    'header': 'h3',\n",
       "    'order': 2,\n",
       "    'title': 'Brief Draft'}]},\n",
       " 'https://frontanalytics.com': {'title': 'Front Analytics',\n",
       "  'sections': [{'url': 'https://frontanalytics.com',\n",
       "    'page_title': 'Front Analytics',\n",
       "    'header': 'h1',\n",
       "    'order': 0,\n",
       "    'title': 'AccelerateInnovation'},\n",
       "   {'url': 'https://frontanalytics.com',\n",
       "    'page_title': 'Front Analytics',\n",
       "    'header': 'h2',\n",
       "    'order': 0,\n",
       "    'title': 'Core Capabilities'},\n",
       "   {'url': 'https://frontanalytics.com',\n",
       "    'page_title': 'Front Analytics',\n",
       "    'header': 'h2',\n",
       "    'order': 1,\n",
       "    'title': 'Advanced Analytics: Why the Best Solutions come from Pragmatic Data Science'},\n",
       "   {'url': 'https://frontanalytics.com',\n",
       "    'page_title': 'Front Analytics',\n",
       "    'header': 'h2',\n",
       "    'order': 2,\n",
       "    'title': 'Latest Insights'}]},\n",
       " 'https://datawinners.com': {'title': '@alton_lex (Data Winners)',\n",
       "  'sections': [{'url': 'https://datawinners.com',\n",
       "    'page_title': '@alton_lex (Data Winners)',\n",
       "    'header': 'h1',\n",
       "    'order': 0,\n",
       "    'title': ''},\n",
       "   {'url': 'https://datawinners.com',\n",
       "    'page_title': '@alton_lex (Data Winners)',\n",
       "    'header': 'h3',\n",
       "    'order': 0,\n",
       "    'title': 'Tutorial: Harness the full power of Google Search Console into BigQuery'},\n",
       "   {'url': 'https://datawinners.com',\n",
       "    'page_title': '@alton_lex (Data Winners)',\n",
       "    'header': 'h3',\n",
       "    'order': 1,\n",
       "    'title': 'Dashboard: Niche Case Study'},\n",
       "   {'url': 'https://datawinners.com',\n",
       "    'page_title': '@alton_lex (Data Winners)',\n",
       "    'header': 'h3',\n",
       "    'order': 2,\n",
       "    'title': 'FREE DATA Download: Top SEO Niche Twitter Accounts'},\n",
       "   {'url': 'https://datawinners.com',\n",
       "    'page_title': '@alton_lex (Data Winners)',\n",
       "    'header': 'h3',\n",
       "    'order': 3,\n",
       "    'title': 'Course: Data Analytics for SEO'}]}}"
      ]
     },
     "execution_count": 49,
     "metadata": {},
     "output_type": "execute_result"
    }
   ],
   "source": [
    "# request the page and create a dataset for each url\n",
    "\n",
    "# cache all results\n",
    "all_results = {}\n",
    "\n",
    "for url in urls:\n",
    "    print(url)\n",
    "    \n",
    "    if url not in all_results:\n",
    "        title, sections = parse_page_to_sections_list( url )\n",
    "        all_results[url] = {\n",
    "            \"title\": title,\n",
    "            \"sections\": sections\n",
    "        }\n",
    "\n",
    "all_results"
   ]
  },
  {
   "cell_type": "code",
   "execution_count": 50,
   "id": "08411552",
   "metadata": {},
   "outputs": [],
   "source": [
    "\n",
    "# in batches of 10 send to openai\n",
    "from itertools import islice\n",
    "\n",
    "def split_every(n, iterable):\n",
    "    i = iter(iterable)\n",
    "    piece = list(islice(i, n))\n",
    "    while piece:\n",
    "        yield piece\n",
    "        piece = list(islice(i, n))\n",
    "        \n",
    "parts = list( split_every(10,list(all_results.keys())) )"
   ]
  },
  {
   "cell_type": "code",
   "execution_count": 109,
   "id": "bda8a674",
   "metadata": {},
   "outputs": [
    {
     "data": {
      "text/plain": [
       "['Create a mardown table to categorize the following urls. Use the following url data and the associated headers for that url:\\n',\n",
       " '',\n",
       " 'url: https://tourismhuahin.com',\n",
       " 'title: DISCOVER PARADISE',\n",
       " 'h1: DISCOVER PARADISE',\n",
       " 'h1: Embrace the Serenity and Bliss of Hua Hin',\n",
       " 'h2: Beautiful Temple Complex and Beach in Khao Tao',\n",
       " 'h2: Your Ultimate Guide to Thailand’s Enchanting Coastal Gem',\n",
       " 'h2: Hello world!',\n",
       " '',\n",
       " 'url: https://contentcurator.com',\n",
       " 'title: Accelerate Your Content Strategy',\n",
       " 'h1: Accelerate Your Content Strategy',\n",
       " 'h2: Supercharge Your Content Strategy with AI and Data',\n",
       " 'h2: Content Strategy Powered by Data and AI',\n",
       " 'h2: Accelerate Your Content Strategy',\n",
       " 'h3: Keyword Research',\n",
       " '',\n",
       " 'url: https://frontanalytics.com',\n",
       " 'title: AccelerateInnovation',\n",
       " 'h1: AccelerateInnovation',\n",
       " 'h2: Core Capabilities',\n",
       " 'h2: Advanced Analytics: Why the Best Solutions come from Pragmatic Data Science',\n",
       " 'h2: Latest Insights',\n",
       " '',\n",
       " 'url: https://datawinners.com',\n",
       " 'title: ',\n",
       " 'h1: ',\n",
       " 'h3: Tutorial: Harness the full power of Google Search Console into BigQuery',\n",
       " 'h3: Dashboard: Niche Case Study',\n",
       " 'h3: FREE DATA Download: Top SEO Niche Twitter Accounts',\n",
       " 'h3: Course: Data Analytics for SEO']"
      ]
     },
     "execution_count": 109,
     "metadata": {},
     "output_type": "execute_result"
    }
   ],
   "source": [
    "# create openai api calls\n",
    "\n",
    "all_calls = []\n",
    "\n",
    "for batch in parts:\n",
    "    \n",
    "    context = \"You are an expert at categorizing data. Return a table of responses in markdown format where each row has the url and a column for the category which should represent the main content category for the url using the iab content taxonomy 3.0, another column which indicates true or false if this is sfw content (where nsfw includes but not limited to gambling, adult, illegal, hate/war etc), followed by a column that lists of at least  search queries where this page might appear, and finally one last column which is the primary overall topic or keyphrase to describe the entire url. The user will give a set of urls, you always reply using those urls and the assocaited information. only reply with a markdown table.\"\n",
    "\n",
    "    prompt_array = [\"\"\"Create a mardown table to categorize the following urls. Use the following url data and the associated headers for that url:\n",
    "\"\"\"]\n",
    "    \n",
    "    for url in batch:\n",
    "        if 'title' in all_results[url]:\n",
    "            prompt_array.append(\"\")\n",
    "            prompt_array.append(\"url: \"+url)\n",
    "            prompt_array.append(\"title: \"+all_results[url]['sections'][0]['title'])\n",
    "            \n",
    "            for header in all_results[url]['sections'][0:5]:\n",
    "                prompt_array.append(header['header']+\": \"+header['title'])\n",
    "\n",
    "prompt_array"
   ]
  },
  {
   "cell_type": "code",
   "execution_count": 110,
   "id": "a1df15a5",
   "metadata": {},
   "outputs": [],
   "source": [
    "def openai_chatgen_for_datawinners(\n",
    "        context,\n",
    "        prompt,\n",
    "        model = \"gpt-3.5-turbo\",\n",
    "        max_length = 3000\n",
    "    ):\n",
    "    \"\"\" A generic wrapper for the endpoint \"\"\"\n",
    "    \n",
    "    response = openai.ChatCompletion.create(\n",
    "      model=model,\n",
    "      messages=[\n",
    "        {\n",
    "          \"role\": \"system\",\n",
    "          \"content\": context\n",
    "        },\n",
    "        {\n",
    "          \"role\": \"user\",\n",
    "          \"content\": prompt\n",
    "        }\n",
    "      ],\n",
    "      temperature=1,\n",
    "      top_p=1,\n",
    "      frequency_penalty=0,\n",
    "      presence_penalty=0\n",
    "    )\n",
    "\n",
    "    \n",
    "    return response.choices[0]['message']['content']"
   ]
  },
  {
   "cell_type": "code",
   "execution_count": 111,
   "id": "d0392164",
   "metadata": {},
   "outputs": [],
   "source": [
    "md_table = openai_chatgen_for_datawinners(context, \"/n\".join(prompt_array))"
   ]
  },
  {
   "cell_type": "code",
   "execution_count": 112,
   "id": "6f779f16",
   "metadata": {},
   "outputs": [
    {
     "data": {
      "text/markdown": [
       "| URL                                  | Category                  | SFW    | Search Queries                                                                                                             | Primary Topic                |\n",
       "|--------------------------------------|---------------------------|--------|---------------------------------------------------------------------------------------------------------------------------|------------------------------|\n",
       "| https://tourismhuahin.com/           | Travel and Tourism         | True   | Thailand travel, Hua Hin attractions, Beaches in Khao Tao, Thai coastal gem, Hua Hin tourism                                | Hua Hin tourism              |\n",
       "| https://contentcurator.com/          | Marketing and Advertising | True   | Content strategy, AI in content strategy, Data-driven content strategy, Supercharge content strategy, Keyword research      | Content strategy             |\n",
       "| https://frontanalytics.com/          | Analytics                  | True   | Accelerate innovation, Core capabilities, Advanced analytics, Pragmatic data science, Latest insights                     | Accelerate innovation        |\n",
       "| https://datawinners.com/            | SEO and Analytics          | True   | Google Search Console into BigQuery, Niche case study, Top SEO niche Twitter accounts, Data analytics for SEO, Dashboard | SEO analytics                |"
      ]
     },
     "metadata": {},
     "output_type": "display_data"
    }
   ],
   "source": [
    "# display table\n",
    "\n",
    "from IPython.display import display_markdown\n",
    "\n",
    "display_markdown(md_table, raw=True)"
   ]
  }
 ],
 "metadata": {
  "kernelspec": {
   "display_name": "Python 3 (ipykernel)",
   "language": "python",
   "name": "python3"
  },
  "language_info": {
   "codemirror_mode": {
    "name": "ipython",
    "version": 3
   },
   "file_extension": ".py",
   "mimetype": "text/x-python",
   "name": "python",
   "nbconvert_exporter": "python",
   "pygments_lexer": "ipython3",
   "version": "3.10.12"
  }
 },
 "nbformat": 4,
 "nbformat_minor": 5
}
