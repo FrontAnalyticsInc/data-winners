{
 "cells": [
  {
   "cell_type": "markdown",
   "id": "bf804d49",
   "metadata": {},
   "source": [
    "# API Examples for Originality.ai\n",
    "\n",
    "\n",
    "### Overview\n",
    "\n",
    "With the advancements in AI generated content it is important to make sure articles you create are unique and original.\n",
    "\n",
    "Use the Originality.ai api to test for how similar your text content is to something that could be auto generated.\n",
    "\n",
    "\n",
    "### About Me\n",
    "\n",
    "My name is Alton Alexander. I am a Data Science consultant turned entreprenuer building SaaS tools for SEO.\n",
    "\n",
    "Find more about my free scripts or ask me any question on twitter: @alton_lex\n",
    "\n",
    "\n",
    "### Additional Resources\n",
    "\n",
    "1) You'll need an API key that you can get from https://originality.ai?lmref=XSGc6g\n",
    "\n",
    "2) You can test a full URL for originality at https://app.contentcurator.com/tools/"
   ]
  },
  {
   "cell_type": "markdown",
   "id": "a8d7c560",
   "metadata": {},
   "source": [
    "# Setup\n",
    "\n",
    "First load libraries"
   ]
  },
  {
   "cell_type": "code",
   "execution_count": 16,
   "id": "26bfeade",
   "metadata": {},
   "outputs": [],
   "source": [
    "# load libraries\n",
    "import os\n",
    "import math\n",
    "import requests\n",
    "import json\n",
    "\n",
    "# create an account on originalityai.com\n",
    "# use docs from https://app.originality.ai/api-access\n",
    "\n",
    "# set the key in environment variable\n",
    "originalityai_api_key = os.getenv('ORIGINALITYI_API_KEY')"
   ]
  },
  {
   "cell_type": "markdown",
   "id": "22621868",
   "metadata": {},
   "source": [
    "## Wrapper for the OriginalityAI API"
   ]
  },
  {
   "cell_type": "code",
   "execution_count": 8,
   "id": "185b11f0",
   "metadata": {},
   "outputs": [],
   "source": [
    "class OriginalityAIAPIHelper:\n",
    "    \"\"\" Connect to originalityAI API \"\"\"\n",
    "\n",
    "    def __init__(self, api_key):\n",
    "        self.key = api_key\n",
    "        self.api_url = \"https://api.originality.ai/api/v1\"\n",
    "\n",
    "    def get(self, endpoint):\n",
    "        # use docs from https://app.originality.ai/api-access\n",
    "        r=requests.get(self.api_url+endpoint, headers={\"X-OAI-API-KEY\":self.key})\n",
    "        return json.loads(r.text)\n",
    "    \n",
    "    def prefetch(self, text):\n",
    "        # get the cost and count of text input\n",
    "        wordcount = len(text.split(\" \"))\n",
    "        cost_estimated = math.ceil(wordcount/100)\n",
    "        return {\"cost_estimated\":cost_estimated, \"wordcount\":wordcount}\n",
    "\n",
    "    def scan(self, text):\n",
    "        # \n",
    "        endpoint = \"/scan/ai\"\n",
    "        data = {\n",
    "            \"content\": text\n",
    "        }\n",
    "\n",
    "        r=requests.post(self.api_url+endpoint, json=data, headers={\"X-OAI-API-KEY\":self.key})\n",
    "        return json.loads(r.text)"
   ]
  },
  {
   "cell_type": "markdown",
   "id": "9ddf4ab2",
   "metadata": {},
   "source": [
    "## First, test the wordcount\n",
    "\n",
    "We wrote a simple prefetch function within the class above.\n",
    "\n",
    "This helps to estimate the cost using wordcount of the input text."
   ]
  },
  {
   "cell_type": "code",
   "execution_count": 9,
   "id": "810930ac",
   "metadata": {},
   "outputs": [
    {
     "data": {
      "text/plain": [
       "{'cost_estimated': 2, 'wordcount': 109}"
      ]
     },
     "execution_count": 9,
     "metadata": {},
     "output_type": "execute_result"
    }
   ],
   "source": [
    "# Input text\n",
    "\n",
    "text = \"\"\"These grills are the real deal. The cast iron grate holds the heat like a champ, cooking the meat nice and evenly and providing sear marks appealing enough to make any carnivore’s mouth water. But with so many brands and models on the market, it can be tough to find the right one for you.\n",
    "    Hold onto your horses, though! Because we’ve got your back as always. We’ve done the due diligence for you and rounded up the top charcoal grills with cast iron cooking grates. They are truly the cream of the crop, capable of cooking up the finest vittles you’ve ever tasted. See below.\"\"\"\n",
    "\n",
    "# use originality.ai helper class\n",
    "oai_api = OriginalityAIAPIHelper(api_key = originalityai_api_key)\n",
    "\n",
    "prefetch = oai_api.prefetch(text)\n",
    "\n",
    "prefetch"
   ]
  },
  {
   "cell_type": "markdown",
   "id": "7758c0c4",
   "metadata": {},
   "source": [
    "## Detect Originality Score"
   ]
  },
  {
   "cell_type": "code",
   "execution_count": 15,
   "id": "f1e245bf",
   "metadata": {},
   "outputs": [
    {
     "data": {
      "text/plain": [
       "{'success': True,\n",
       " 'score': {'original': 0.01732948049902916, 'ai': 0.9826704859733582},\n",
       " 'credits_used': 3,\n",
       " 'credits': 1853,\n",
       " 'content': 'I absolutely love ice cream! The creamy and sweet texture of ice cream can make any day feel better. Some of the best flavors of ice cream are classic flavors like vanilla, strawberry, and chocolate, because they are so creamy and versatile. Vanilla ice cream is a great base flavor because you can create many different combinations with it. Some of my favorite combinations are a simple waffle cone with vanilla ice cream and chocolate drizzle, or a classic sundae with vanilla ice cream, hot fudge and peanuts. Strawberry ice cream is another classic! Whether it comes from a pint or scooped from a carton, this flavor of ice cream is always a hit. I love having strawberry ice cream in cones with some fresh strawberries, or vanilla ice cream with a delicious dollop of strawberry jam. Chocolate ice cream is the classic favorite; it is always a pleasure to eat. I love having chocolate ice cream with some fresh whip cream and a maraschino cherry. We can also get creative with chocolate ice cream and make it into an ice cream sandwich or add some fresh sprinkles.\\nThe more adventurous flavors of ice cream are a bit more exciting to try. Coffee ice cream has a unique flavor profile and is delicious when combined with freshly brewed expresso. Salted caramel ice cream is also delightful. I like to have it swirled with some extra caramel and a big sprinkle of sea salt for some salty sweetness. Another one of my favorites is coconut ice cream. The combination of a classic creamy texture with a hint of coconut is amazing. I like it best when it is combined with lightly toasted pecans and a few Chocolate chips.\\nThere’s also some really unique flavors like rose petal ice cream or Earl grey ice cream. Both of these flavors have a strong taste and aroma. I love to have rose petal ice cream with a few fresh flower petals, it’s like a little bit of summer in every bite. And Earl grey ice cream with a warm drizzle of bergamot syrup is divine!'}"
      ]
     },
     "execution_count": 15,
     "metadata": {},
     "output_type": "execute_result"
    }
   ],
   "source": [
    "text = \"\"\"I absolutely love ice cream! The creamy and sweet texture of ice cream can make any day feel better. Some of the best flavors of ice cream are classic flavors like vanilla, strawberry, and chocolate, because they are so creamy and versatile. Vanilla ice cream is a great base flavor because you can create many different combinations with it. Some of my favorite combinations are a simple waffle cone with vanilla ice cream and chocolate drizzle, or a classic sundae with vanilla ice cream, hot fudge and peanuts. Strawberry ice cream is another classic! Whether it comes from a pint or scooped from a carton, this flavor of ice cream is always a hit. I love having strawberry ice cream in cones with some fresh strawberries, or vanilla ice cream with a delicious dollop of strawberry jam. Chocolate ice cream is the classic favorite; it is always a pleasure to eat. I love having chocolate ice cream with some fresh whip cream and a maraschino cherry. We can also get creative with chocolate ice cream and make it into an ice cream sandwich or add some fresh sprinkles.\n",
    "The more adventurous flavors of ice cream are a bit more exciting to try. Coffee ice cream has a unique flavor profile and is delicious when combined with freshly brewed expresso. Salted caramel ice cream is also delightful. I like to have it swirled with some extra caramel and a big sprinkle of sea salt for some salty sweetness. Another one of my favorites is coconut ice cream. The combination of a classic creamy texture with a hint of coconut is amazing. I like it best when it is combined with lightly toasted pecans and a few Chocolate chips.\n",
    "There’s also some really unique flavors like rose petal ice cream or Earl grey ice cream. Both of these flavors have a strong taste and aroma. I love to have rose petal ice cream with a few fresh flower petals, it’s like a little bit of summer in every bite. And Earl grey ice cream with a warm drizzle of bergamot syrup is divine!\"\"\"\n",
    "\n",
    "\n",
    "# use originality.ai\n",
    "oai_api = OriginalityAIAPIHelper(api_key = originalityai_api_key)\n",
    "\n",
    "results = oai_api.scan(text)\n",
    "\n",
    "results"
   ]
  }
 ],
 "metadata": {
  "kernelspec": {
   "display_name": "Python 3 (ipykernel)",
   "language": "python",
   "name": "python3"
  },
  "language_info": {
   "codemirror_mode": {
    "name": "ipython",
    "version": 3
   },
   "file_extension": ".py",
   "mimetype": "text/x-python",
   "name": "python",
   "nbconvert_exporter": "python",
   "pygments_lexer": "ipython3",
   "version": "3.10.6"
  }
 },
 "nbformat": 4,
 "nbformat_minor": 5
}
