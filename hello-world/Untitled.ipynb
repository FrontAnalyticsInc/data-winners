{
 "cells": [
  {
   "cell_type": "markdown",
   "id": "ee4160ae",
   "metadata": {},
   "source": [
    "# Hello World!\n",
    "\n",
    "Welcome to the repository for data winners.\n"
   ]
  },
  {
   "cell_type": "markdown",
   "id": "573710cb",
   "metadata": {},
   "source": [
    "##### About Me:\n",
    "    \n",
    "My name is Alton Alexander and I'm a data science consultant turned SaaS builder of SEO tools.\n",
    "\n",
    "If you have any questions or suggestions you can reach me at:\n",
    "\n",
    "Twitter: @alton_lex https://twitter.com/alton_lex\n",
    "LinkedIn: https://www.linkedin.com/in/altonalexander/\n",
    "YouTube: https://www.youtube.com/@alton_lex"
   ]
  },
  {
   "cell_type": "markdown",
   "id": "de7c351d",
   "metadata": {},
   "source": [
    "## First Codeblock\n",
    "\n",
    "Run this code or any of the notebooks on Google collab"
   ]
  },
  {
   "cell_type": "code",
   "execution_count": 1,
   "id": "54868c03",
   "metadata": {},
   "outputs": [
    {
     "name": "stdout",
     "output_type": "stream",
     "text": [
      "Hello, world!\n"
     ]
    }
   ],
   "source": [
    "# This program prints Hello, world!\n",
    "\n",
    "print('Hello, world!')"
   ]
  }
 ],
 "metadata": {
  "kernelspec": {
   "display_name": "Python 3 (ipykernel)",
   "language": "python",
   "name": "python3"
  },
  "language_info": {
   "codemirror_mode": {
    "name": "ipython",
    "version": 3
   },
   "file_extension": ".py",
   "mimetype": "text/x-python",
   "name": "python",
   "nbconvert_exporter": "python",
   "pygments_lexer": "ipython3",
   "version": "3.10.6"
  }
 },
 "nbformat": 4,
 "nbformat_minor": 5
}
