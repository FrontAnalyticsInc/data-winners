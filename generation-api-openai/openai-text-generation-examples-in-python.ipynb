{
 "cells": [
  {
   "cell_type": "markdown",
   "id": "83cf8fea",
   "metadata": {},
   "source": [
    "# MEGA Collection of Text Generation Examples using OpenAI API for GPT-3\n",
    "\n",
    "\n",
    "### Overview\n",
    "\n",
    "Content generation is a hot topic and a viable usecase for Large Language Models LLMs like GPT.\n",
    "\n",
    "\n",
    "### Free Scripts\n",
    "\n",
    "This is part of a series of free python scripts. \n",
    "\n",
    "You can find all the scripts online at https://github.com/FrontAnalyticsInc/data-winners\n",
    "\n",
    "Message me on twitter if you have any suggestions.\n",
    "\n",
    "\n",
    "### About Me\n",
    "\n",
    "My name is Alton Alexander. I am a Data Science consultant turned entreprenuer building SaaS tools for SEO.\n",
    "\n",
    "Find more about my free scripts or ask me any question on twitter: @alton_lex\n",
    "\n",
    "\n",
    "### About Data Winners\n",
    "\n",
    "Join the conversation:\n",
    "\n",
    "- private Discord community\n",
    "\n",
    "- Video tutorials\n",
    "\n",
    "- Feedback and support on this and other scripts\n",
    "\n",
    "Join now: https://datawinners.gumroad.com/l/data-analytics-for-seo"
   ]
  },
  {
   "cell_type": "markdown",
   "id": "8e233d25",
   "metadata": {},
   "source": [
    "# Setup\n",
    "\n",
    "Steps: \n",
    "\n",
    "1) You'll need an API key from OpenAI.\n",
    "\n",
    "2) Paste the key in the cell below or add it as an environment variable. For best practices see https://help.openai.com/en/articles/5112595-best-practices-for-api-key-safety\n",
    "\n",
    "3) Run the following locally or in a google colab environment"
   ]
  },
  {
   "cell_type": "code",
   "execution_count": 18,
   "id": "4f0f1523",
   "metadata": {},
   "outputs": [
    {
     "name": "stdout",
     "output_type": "stream",
     "text": [
      "env: OPENAI_API_KEY=sk-PASTEYOURKEYHERE\n"
     ]
    }
   ],
   "source": [
    "# Set your api key\n",
    "# copy and paste your open api key as a varible\n",
    "import os\n",
    "\n",
    "%env OPENAI_API_KEY=sk-PASTEYOURKEYHERE\n",
    "\n",
    "open_api_key = os.getenv(\"OPENAI_API_KEY\")\n",
    "\n"
   ]
  },
  {
   "cell_type": "code",
   "execution_count": 19,
   "id": "b952c4de",
   "metadata": {
    "scrolled": true
   },
   "outputs": [
    {
     "name": "stdout",
     "output_type": "stream",
     "text": [
      "Defaulting to user installation because normal site-packages is not writeable\n",
      "Requirement already satisfied: openai in /home/alton/.local/lib/python3.10/site-packages (0.27.8)\n",
      "Requirement already satisfied: requests>=2.20 in /usr/lib/python3/dist-packages (from openai) (2.25.1)\n",
      "Requirement already satisfied: tqdm in /home/alton/.local/lib/python3.10/site-packages (from openai) (4.64.1)\n",
      "Requirement already satisfied: aiohttp in /home/alton/.local/lib/python3.10/site-packages (from openai) (3.8.1)\n",
      "Requirement already satisfied: yarl<2.0,>=1.0 in /home/alton/.local/lib/python3.10/site-packages (from aiohttp->openai) (1.8.1)\n",
      "Requirement already satisfied: frozenlist>=1.1.1 in /home/alton/.local/lib/python3.10/site-packages (from aiohttp->openai) (1.3.1)\n",
      "Requirement already satisfied: multidict<7.0,>=4.5 in /home/alton/.local/lib/python3.10/site-packages (from aiohttp->openai) (6.0.2)\n",
      "Requirement already satisfied: charset-normalizer<3.0,>=2.0 in /home/alton/.local/lib/python3.10/site-packages (from aiohttp->openai) (2.1.1)\n",
      "Requirement already satisfied: async-timeout<5.0,>=4.0.0a3 in /home/alton/.local/lib/python3.10/site-packages (from aiohttp->openai) (4.0.2)\n",
      "Requirement already satisfied: aiosignal>=1.1.2 in /home/alton/.local/lib/python3.10/site-packages (from aiohttp->openai) (1.2.0)\n",
      "Requirement already satisfied: attrs>=17.3.0 in /home/alton/.local/lib/python3.10/site-packages (from aiohttp->openai) (22.1.0)\n",
      "Requirement already satisfied: idna>=2.0 in /usr/lib/python3/dist-packages (from yarl<2.0,>=1.0->aiohttp->openai) (3.3)\n",
      "\n",
      "\u001b[1m[\u001b[0m\u001b[34;49mnotice\u001b[0m\u001b[1;39;49m]\u001b[0m\u001b[39;49m A new release of pip available: \u001b[0m\u001b[31;49m22.2.2\u001b[0m\u001b[39;49m -> \u001b[0m\u001b[32;49m23.2.1\u001b[0m\n",
      "\u001b[1m[\u001b[0m\u001b[34;49mnotice\u001b[0m\u001b[1;39;49m]\u001b[0m\u001b[39;49m To update, run: \u001b[0m\u001b[32;49mpython3 -m pip install --upgrade pip\u001b[0m\n",
      "Note: you may need to restart the kernel to use updated packages.\n"
     ]
    }
   ],
   "source": [
    "# install libraries\n",
    "%pip install openai\n",
    "\n",
    "# choose the default model\n",
    "#default_model = \"text-davinci-003\"\n",
    "default_model = \"gpt-3.5-turbo-instruct\""
   ]
  },
  {
   "cell_type": "markdown",
   "id": "04bec595",
   "metadata": {},
   "source": [
    "# Hello World\n",
    "\n",
    "A basic example just to confirm that we've connect to the API correctly."
   ]
  },
  {
   "cell_type": "code",
   "execution_count": 3,
   "id": "d452644d",
   "metadata": {},
   "outputs": [],
   "source": [
    "# copied directly from the playground on OpenAI\n",
    "\n",
    "import os\n",
    "import openai\n",
    "\n",
    "openai.api_key = open_api_key\n",
    "\n",
    "response = openai.Completion.create(\n",
    "  model=default_model,\n",
    "  prompt=\"Say 'hi to all the data winners' with an emoji\",\n",
    "  temperature=0.7,\n",
    "  max_tokens=100,\n",
    "  top_p=1,\n",
    "  frequency_penalty=0,\n",
    "  presence_penalty=0\n",
    ")"
   ]
  },
  {
   "cell_type": "code",
   "execution_count": 4,
   "id": "cd8a0567",
   "metadata": {
    "scrolled": true
   },
   "outputs": [
    {
     "data": {
      "text/plain": [
       "<OpenAIObject text_completion id=cmpl-83aBWo7QhKBSXb9QbAk0E9jKQN8kt at 0x7f2ec3499030> JSON: {\n",
       "  \"id\": \"cmpl-83aBWo7QhKBSXb9QbAk0E9jKQN8kt\",\n",
       "  \"object\": \"text_completion\",\n",
       "  \"created\": 1695864770,\n",
       "  \"model\": \"gpt-3.5-turbo-instruct\",\n",
       "  \"choices\": [\n",
       "    {\n",
       "      \"text\": \"\\n\\nHi \\ud83d\\udc4b to all the \\ud83c\\udfc6 data winners! \",\n",
       "      \"index\": 0,\n",
       "      \"logprobs\": null,\n",
       "      \"finish_reason\": \"stop\"\n",
       "    }\n",
       "  ],\n",
       "  \"usage\": {\n",
       "    \"prompt_tokens\": 12,\n",
       "    \"completion_tokens\": 14,\n",
       "    \"total_tokens\": 26\n",
       "  }\n",
       "}"
      ]
     },
     "execution_count": 4,
     "metadata": {},
     "output_type": "execute_result"
    }
   ],
   "source": [
    "# response comes back as an OpenAIObject\n",
    "response"
   ]
  },
  {
   "cell_type": "code",
   "execution_count": 5,
   "id": "573e19d2",
   "metadata": {},
   "outputs": [
    {
     "data": {
      "text/plain": [
       "'\\n\\nHi 👋 to all the 🏆 data winners! '"
      ]
     },
     "execution_count": 5,
     "metadata": {},
     "output_type": "execute_result"
    }
   ],
   "source": [
    "# pick the first choice and display\n",
    "response.get('choices',[])[0]['text']"
   ]
  },
  {
   "cell_type": "markdown",
   "id": "121358ae",
   "metadata": {},
   "source": [
    "# Create a function\n",
    "\n",
    "Inputs: the prompt\n",
    "\n",
    "Outputs: the text-generated"
   ]
  },
  {
   "cell_type": "code",
   "execution_count": 6,
   "id": "74ded2ae",
   "metadata": {},
   "outputs": [],
   "source": [
    "def openai_textgen_for_datawinners(\n",
    "        prompt,\n",
    "        model = default_model,\n",
    "        max_length = 4000\n",
    "    ):\n",
    "    \n",
    "    response = openai.Completion.create(\n",
    "      model=model,\n",
    "      prompt=prompt,\n",
    "      temperature=0.7,\n",
    "      max_tokens=max_length,\n",
    "      top_p=1,\n",
    "      frequency_penalty=0,\n",
    "      presence_penalty=0\n",
    "    )\n",
    "    \n",
    "    return response.get('choices',[])[0]['text']"
   ]
  },
  {
   "cell_type": "code",
   "execution_count": 7,
   "id": "87905407",
   "metadata": {},
   "outputs": [
    {
     "data": {
      "text/plain": [
       "'Say how cool this is to all the data winners'"
      ]
     },
     "execution_count": 7,
     "metadata": {},
     "output_type": "execute_result"
    }
   ],
   "source": [
    "\n",
    "# we build variables\n",
    "prompt_audience = \"data winners\"\n",
    "\n",
    "# we build a prompt template (note the f in front of string!)\n",
    "prompt = f\"\"\"Say how cool this is to all the {prompt_audience}\"\"\"\n",
    "\n",
    "prompt"
   ]
  },
  {
   "cell_type": "code",
   "execution_count": 8,
   "id": "cc2132f7",
   "metadata": {},
   "outputs": [
    {
     "data": {
      "text/plain": [
       "\"\\n\\nHey everyone, how cool is it that we are all data winners? It's amazing that we have access to so much information and data at our fingertips. We can use this data to improve our lives, make better decisions, and learn new things. We are living in a time where data is at the core of everything, and it's incredible that we have the opportunity to harness its power. So let's celebrate being data winners and continue to use this resource to its fullest potential. Cheers to all the data winners out there!\""
      ]
     },
     "execution_count": 8,
     "metadata": {},
     "output_type": "execute_result"
    }
   ],
   "source": [
    "# test the function\n",
    "\n",
    "prompt = \"Say how cool this is to all the data winners\"\n",
    "openai_textgen_for_datawinners(prompt)"
   ]
  },
  {
   "cell_type": "markdown",
   "id": "4b0ee50a",
   "metadata": {},
   "source": [
    "# Brainstorming"
   ]
  },
  {
   "cell_type": "markdown",
   "id": "f02eb9df",
   "metadata": {},
   "source": [
    "## List subtopics"
   ]
  },
  {
   "cell_type": "code",
   "execution_count": 9,
   "id": "7ca1418d",
   "metadata": {},
   "outputs": [],
   "source": [
    "topic = \"bike riding\"\n",
    "prompt_list_subtopics = f\"\"\"List of subtopics related to {topic}\"\"\"\n",
    "\n",
    "response = openai_textgen_for_datawinners(prompt_list_subtopics)"
   ]
  },
  {
   "cell_type": "code",
   "execution_count": 10,
   "id": "23fe1d56",
   "metadata": {},
   "outputs": [
    {
     "name": "stdout",
     "output_type": "stream",
     "text": [
      "\n",
      "\n",
      "1. Safety tips for bike riding\n",
      "2. Choosing the right bike for your needs\n",
      "3. Importance of proper bike maintenance \n",
      "4. Benefits of bike riding for physical and mental health \n",
      "5. Popular bike riding trails and routes \n",
      "6. How to ride in different weather conditions \n",
      "7. Bike riding for transportation and reducing carbon footprint \n",
      "8. Bike riding etiquette and rules of the road \n",
      "9. Different types of bike riding, such as mountain biking, road biking, and urban biking \n",
      "10. Bike riding gear and equipment essentials \n",
      "11. Techniques for improving bike handling and balance \n",
      "12. Bike riding for beginners: tips and advice \n",
      "13. Bike riding for children and families \n",
      "14. Bike riding events and races \n",
      "15. Bike safety for children and teaching kids to ride \n",
      "16. Bike riding for commuting and city living \n",
      "17. Bike riding for weight loss and fitness \n",
      "18. How to build endurance and increase distance in bike riding \n",
      "19. Bike riding for seniors and older adults \n",
      "20. Bike riding for charity and fundraising events.\n"
     ]
    }
   ],
   "source": [
    "print(response)"
   ]
  },
  {
   "cell_type": "markdown",
   "id": "583566e0",
   "metadata": {},
   "source": [
    "## Ask for uncommon subtopics"
   ]
  },
  {
   "cell_type": "code",
   "execution_count": 11,
   "id": "577591cc",
   "metadata": {},
   "outputs": [
    {
     "data": {
      "text/plain": [
       "'What are some additional uncommon or advanced Bike Maintenance'"
      ]
     },
     "execution_count": 11,
     "metadata": {},
     "output_type": "execute_result"
    }
   ],
   "source": [
    "topic = \"Bike Maintenance\"\n",
    "prompt_advanced_techniques = f\"\"\"What are some additional uncommon or advanced {topic}\"\"\"\n",
    "prompt_advanced_techniques"
   ]
  },
  {
   "cell_type": "code",
   "execution_count": 12,
   "id": "1ea719cc",
   "metadata": {},
   "outputs": [],
   "source": [
    "\n",
    "response = openai_textgen_for_datawinners(\n",
    "    prompt_advanced_techniques\n",
    ")"
   ]
  },
  {
   "cell_type": "code",
   "execution_count": 13,
   "id": "a1c3b9af",
   "metadata": {},
   "outputs": [
    {
     "name": "stdout",
     "output_type": "stream",
     "text": [
      " Tips\n",
      "\n",
      "1. Suspension Maintenance: Regularly check and lubricate the suspension pivots and seals to keep them functioning properly.\n",
      "\n",
      "2. Brake Bleeding: For hydraulic disc brakes, it is important to bleed the system every 6-12 months to remove any air bubbles and ensure optimal braking performance.\n",
      "\n",
      "3. Wheel Truing: Use a spoke tension meter to ensure equal tension on all spokes and prevent wheel wobbling. It is also important to check the wheel for any dents or damage that could affect its strength and stability.\n",
      "\n",
      "4. Drivetrain Cleaning: Use a degreaser and a brush to thoroughly clean the chain, cassette, and chainrings. This will not only improve shifting performance but also prolong the life of these components.\n",
      "\n",
      "5. Bottom Bracket Overhaul: Every 1-2 years, remove and clean the bottom bracket, replacing any worn bearings or seals. This will keep the pedals spinning smoothly and prevent any potential damage.\n",
      "\n",
      "6. Headset Adjustment: Check and adjust the headset bearings to ensure smooth steering and prevent any play or stiffness in the handlebars.\n",
      "\n",
      "7. Tubeless Tire Maintenance: For tubeless tires, periodically check the sealant levels and top up as needed. Also, clean and inspect the rim tape to ensure a proper seal and prevent air leaks.\n",
      "\n",
      "8. Frame Protection: Use protective tape or film to cover high-wear areas on the frame, such as the chainstays and downtube, to prevent scratches and chips.\n",
      "\n",
      "9. Carbon Fiber Care: For bikes with carbon fiber frames, regularly check for any cracks or damage and use a carbon-specific cleaner and polish to maintain the appearance and strength of the frame.\n",
      "\n",
      "10. Electronic Shifting Diagnostics: If your bike has electronic shifting, learn how to use the diagnostic tools and software provided by the manufacturer to troubleshoot any issues and ensure proper functioning.\n"
     ]
    }
   ],
   "source": [
    "print(response)"
   ]
  },
  {
   "cell_type": "markdown",
   "id": "341abbac",
   "metadata": {},
   "source": [
    "## Brainstorm 'novel' ideas about a specific topic"
   ]
  },
  {
   "cell_type": "code",
   "execution_count": 43,
   "id": "d4391194",
   "metadata": {
    "scrolled": true
   },
   "outputs": [
    {
     "name": "stdout",
     "output_type": "stream",
     "text": [
      "Topic: riding a bike\n",
      "\n",
      "Novelty keeps readers reading. It comes from ideas that tend to be: 1) Counter-intuitive, 2) Counter-narrative, 3) Shock and awe, 4) Elegant articulations.\n",
      "\n",
      "Brainstorm novel ideas for a post on the above topic. Potential objectives for this post could be to:\n",
      "\n",
      "- Open people’s eyes by proving the status quo wrong.\n",
      "- Share a solution to a tough problem.\n",
      "- Distill an overwhelming topic into something approachable.\n",
      "- Tell a suspenseful and emotional story that imparts a lesson.\n",
      "- Articulate something everyone’s thinking about but no one is saying. Cut through the noise.\n",
      "- Identify key trends on a topic. Then use them to predict the future.\n",
      "- Contribute original insights to a field through research and experimentation.\n",
      "\n"
     ]
    }
   ],
   "source": [
    "prompt_topic = \"riding a bike\"\n",
    "\n",
    "prompt_template = f\"\"\"Topic: {prompt_topic}\n",
    "\n",
    "Novelty keeps readers reading. It comes from ideas that tend to be: 1) Counter-intuitive, 2) Counter-narrative, 3) Shock and awe, 4) Elegant articulations.\n",
    "\n",
    "Brainstorm novel ideas for a post on the above topic. Potential objectives for this post could be to:\n",
    "\n",
    "- Open people’s eyes by proving the status quo wrong.\n",
    "- Share a solution to a tough problem.\n",
    "- Distill an overwhelming topic into something approachable.\n",
    "- Tell a suspenseful and emotional story that imparts a lesson.\n",
    "- Articulate something everyone’s thinking about but no one is saying. Cut through the noise.\n",
    "- Identify key trends on a topic. Then use them to predict the future.\n",
    "- Contribute original insights to a field through research and experimentation.\n",
    "\"\"\"\n",
    "\n",
    "print(prompt_template)"
   ]
  },
  {
   "cell_type": "markdown",
   "id": "106718c9",
   "metadata": {},
   "source": [
    "## Benefits, consequences and results"
   ]
  },
  {
   "cell_type": "code",
   "execution_count": 45,
   "id": "71fe4702",
   "metadata": {},
   "outputs": [
    {
     "name": "stdout",
     "output_type": "stream",
     "text": [
      "For biking to work, what are the benefits, consequences, and results of using that technique?\n"
     ]
    }
   ],
   "source": [
    "topic = \"biking to work\"\n",
    "\n",
    "prompt_template = f\"\"\"For {topic}, what are the benefits, consequences, and results of using that technique?\"\"\"\n",
    "\n",
    "print(prompt_template)"
   ]
  },
  {
   "cell_type": "markdown",
   "id": "c3f7c6c8",
   "metadata": {},
   "source": [
    "# Perspective"
   ]
  },
  {
   "cell_type": "markdown",
   "id": "4b456636",
   "metadata": {},
   "source": [
    "## How a specfic person would answer or do something"
   ]
  },
  {
   "cell_type": "code",
   "execution_count": 14,
   "id": "018d7c0c",
   "metadata": {},
   "outputs": [
    {
     "name": "stdout",
     "output_type": "stream",
     "text": [
      "You are a marketing consultant who specializes in content marketing for B2B SaaS companies. What are the best ways to find new ideas for content?\n"
     ]
    }
   ],
   "source": [
    "persona = \"marketing consultant\"\n",
    "\n",
    "prompt = f\"\"\"You are a {persona} who specializes in content marketing for B2B SaaS companies. What are the best ways to find new ideas for content?\"\"\"\n",
    "\n",
    "print(prompt)"
   ]
  },
  {
   "cell_type": "code",
   "execution_count": 15,
   "id": "c0b189f9",
   "metadata": {},
   "outputs": [],
   "source": [
    "response = openai_textgen_for_datawinners(prompt)"
   ]
  },
  {
   "cell_type": "code",
   "execution_count": 16,
   "id": "15dae9b3",
   "metadata": {},
   "outputs": [
    {
     "name": "stdout",
     "output_type": "stream",
     "text": [
      "\n",
      "\n",
      "1. Stay updated on industry news and trends: Keep track of the latest developments, innovations, and changes in the B2B SaaS industry. This will help you identify new topics and ideas for your content.\n",
      "\n",
      "2. Conduct audience research: Understand your target audience and their pain points, needs, and preferences. This will help you create content that resonates with them and provides value.\n",
      "\n",
      "3. Utilize keyword research: Use tools like Google Keyword Planner or SEMrush to identify popular search terms and keywords related to your industry. This can give you insights into what your audience is searching for and what topics you should cover in your content.\n",
      "\n",
      "4. Monitor social media: Social media platforms like LinkedIn, Twitter, and Facebook can be great sources for content ideas. Keep an eye on industry-related conversations, questions, and discussions to identify potential topics for your content.\n",
      "\n",
      "5. Repurpose old content: Look back at your previous content and see if there are any topics you can expand on or update. This can save you time and effort while still providing valuable content to your audience.\n",
      "\n",
      "6. Conduct surveys and interviews: Reach out to your audience and industry experts through surveys and interviews to gather insights and opinions. This can help you identify new angles and perspectives for your content.\n",
      "\n",
      "7. Attend industry events and conferences: Attending events and conferences related to your industry can expose you to new ideas and perspectives. You can also network with other professionals and gather insights for your content.\n",
      "\n",
      "8. Collaborate with others: Partner with other professionals, influencers, and brands in your industry to create co-branded content. This not only helps you reach a wider audience but also brings in new ideas and perspectives.\n",
      "\n",
      "9. Analyze your competitors: Keep an eye on what your competitors are doing. This can give you ideas for new content topics or ways to improve your existing content.\n",
      "\n",
      "10. Brainstorm with your team: Set up regular brainstorming sessions with your team to come up with new content ideas. Encourage everyone to share their thoughts and insights to generate a variety of ideas.\n"
     ]
    }
   ],
   "source": [
    "print(response)"
   ]
  },
  {
   "cell_type": "markdown",
   "id": "b8594b02",
   "metadata": {},
   "source": [
    "## Simulate an expert"
   ]
  },
  {
   "cell_type": "code",
   "execution_count": 54,
   "id": "c06ba32a",
   "metadata": {},
   "outputs": [
    {
     "data": {
      "text/plain": [
       "'You are a talented analyst at a top-tier market research firm, a graduate of Harvard Business School. Coach me to create content that connects with [audience]. What open-ended questions do I ask? Prioritize uncommon, expert advice.'"
      ]
     },
     "execution_count": 54,
     "metadata": {},
     "output_type": "execute_result"
    }
   ],
   "source": [
    "persona = \"talented analyst\"\n",
    "where = \"top-tier market research firm\"\n",
    "credentials = \"Harvard Business School\"\n",
    "\n",
    "prompt = f\"You are a {persona} at a {where}, a graduate of {credentials}. Coach me to create content that connects with [audience]. What open-ended questions do I ask? Prioritize uncommon, expert advice.\"\n",
    "\n",
    "prompt"
   ]
  },
  {
   "cell_type": "code",
   "execution_count": 55,
   "id": "15f0b636",
   "metadata": {},
   "outputs": [
    {
     "name": "stdout",
     "output_type": "stream",
     "text": [
      "\n",
      "\n",
      "1. What unique challenges does your audience face that other audiences may not?\n",
      "2. What solutions could I provide to make your audience's lives easier?\n",
      "3. How can I make sure my content resonates with your audience?\n",
      "4. What topics does your audience find most engaging?\n",
      "5. What types of content do your audience members prefer?\n",
      "6. What do your audience members want to learn more about?\n",
      "7. What is the best way to capture and maintain your audience's attention?\n",
      "8. What strategies can I use to build relationships with your audience?\n",
      "9. What are the most effective ways to promote content to your target audience?\n",
      "10. How can I measure the success of my content?\n"
     ]
    }
   ],
   "source": [
    "response = openai_textgen_for_datawinners(prompt)\n",
    "print(response)"
   ]
  },
  {
   "cell_type": "markdown",
   "id": "74fe62f6",
   "metadata": {},
   "source": [
    "## Gather Different Perspectives"
   ]
  },
  {
   "cell_type": "code",
   "execution_count": 57,
   "id": "fc3eb2b3",
   "metadata": {},
   "outputs": [
    {
     "data": {
      "text/plain": [
       "'As it relates to bike lanes, write multiple perspectives from a group with different viewpoints. For each perspective, write in their own voice, using phrases that person would use.'"
      ]
     },
     "execution_count": 57,
     "metadata": {},
     "output_type": "execute_result"
    }
   ],
   "source": [
    "topic = \"bike lanes\"\n",
    "prompt = f\"\"\"As it relates to {topic}, write multiple perspectives from a group with different viewpoints. For each perspective, write in their own voice, using phrases that person would use.\"\"\"\n",
    "\n",
    "prompt"
   ]
  },
  {
   "cell_type": "code",
   "execution_count": 58,
   "id": "22f72b2c",
   "metadata": {},
   "outputs": [
    {
     "name": "stdout",
     "output_type": "stream",
     "text": [
      "\n",
      "\n",
      "Perspective 1: \n",
      "\"As a bike rider, I'm all for adding bike lanes to city streets. It's a great way to make cycling safer and more accessible. Plus, bike lanes keep cyclists out of the way of cars, which is a big plus.\"\n",
      "\n",
      "Perspective 2: \n",
      "\"As a driver, bike lanes can be a bit of an inconvenience. They take up valuable space on the road and make it more difficult to navigate. Plus, I'm not sure how much they help cyclists in the long run.\"\n",
      "\n",
      "Perspective 3: \n",
      "\"As a pedestrian, I think bike lanes can be beneficial. They keep cyclists out of the way of pedestrians, which can help reduce the risk of accidents. Plus, bike lanes can encourage more people to ride their bikes, which can help reduce traffic and pollution on the roads.\"\n"
     ]
    }
   ],
   "source": [
    "response = openai_textgen_for_datawinners(prompt)\n",
    "print(response)"
   ]
  },
  {
   "cell_type": "markdown",
   "id": "b466ee75",
   "metadata": {},
   "source": [
    "## Combine with other instructions to improve writing!\n",
    "\n",
    "Novelty keeps readers reading. It comes from ideas that tend to be: 1) Counter-intuitive, 2) Counter-narrative, 3) Shock and awe, 4) Elegant articulations.\n",
    "\n",
    "\n",
    "Supporting points are the points that are needed to make my argument. Resulting points are the implications of an argument being true.\n",
    "\n",
    "Ideas resonate when they accomplish the following: 1) Being clearly understood via simple succinct sentences, examples, and counterexamples; 2) Using persuasive reasoning, 3) Sustaining curiosity through novel ideas, the psychology of intrigue, and open loops, 4) Sustaining resonance through story, analogy, and metaphor.\n",
    "\n",
    "Good writing has a style that: 1) is vivid, 2) engages the imagination, 3) occasionally uses eccentricities and humor, 4) replaces plain phrases with vivid metaphors, 5) removes the unimportant details\n",
    "\n",
    "This passage contains novel ideas that are enhanced with supporting and resulting points. The ideas resonate. It is written in a good writing style.\n"
   ]
  },
  {
   "cell_type": "markdown",
   "id": "8472b441",
   "metadata": {},
   "source": [
    "# Persuasive Writing"
   ]
  },
  {
   "cell_type": "markdown",
   "id": "ea44324e",
   "metadata": {},
   "source": [
    "## Using framework in organizing a marketing campaign"
   ]
  },
  {
   "cell_type": "code",
   "execution_count": 62,
   "id": "257ae37b",
   "metadata": {},
   "outputs": [
    {
     "data": {
      "text/plain": [
       "'Write a marketing campaign outline using the [input framework] that visualizes the journey from [awareness] to [conversion] for [ideal customer persona] and creates content that aligns with each stage. Identify their [pain points] and present our [product/service] as a solution to those issues, highlighting the [features] and [benefits] of our product and explaining how it can [improve their situation].'"
      ]
     },
     "execution_count": 62,
     "metadata": {},
     "output_type": "execute_result"
    }
   ],
   "source": [
    "# NOT FINISHED YET\n",
    "\n",
    "input_framework = \"\"\n",
    "awareness = \"\"\n",
    "conversion = \"\"\n",
    "customer_pesona = \"\"\n",
    "pain_point = \"\"\n",
    "product = \"\"\n",
    "features = []\n",
    "benefits = []\n",
    "\n",
    "prompt_template = \"\"\"Write a marketing campaign outline using the [input framework] that visualizes the journey from [awareness] to [conversion] for [ideal customer persona] and creates content that aligns with each stage. Identify their [pain points] and present our [product/service] as a solution to those issues, highlighting the [features] and [benefits] of our product and explaining how it can [improve their situation].\"\"\"\n",
    "\n",
    "prompt_template"
   ]
  },
  {
   "cell_type": "code",
   "execution_count": 65,
   "id": "a443ea7a",
   "metadata": {},
   "outputs": [
    {
     "data": {
      "text/plain": [
       "'Please organize the following notes into a clear and concise outline, highlighting the most important points: <paste_transcript>'"
      ]
     },
     "execution_count": 65,
     "metadata": {},
     "output_type": "execute_result"
    }
   ],
   "source": [
    "# Organization\n",
    "\n",
    "## organize free writing or audio transcripts\n",
    "\n",
    "transcript = \"<paste_transcript>\"\n",
    "prompt = f\"Please organize the following notes into a clear and concise outline, highlighting the most important points: {transcript}\"\n",
    "\n",
    "prompt"
   ]
  },
  {
   "cell_type": "markdown",
   "id": "fed84327",
   "metadata": {},
   "source": [
    "## Pillar content"
   ]
  },
  {
   "cell_type": "code",
   "execution_count": 84,
   "id": "d9ed6c29",
   "metadata": {},
   "outputs": [
    {
     "data": {
      "text/plain": [
       "'What are the most important topics to a an analyst trying to learn how to code python?'"
      ]
     },
     "execution_count": 84,
     "metadata": {},
     "output_type": "execute_result"
    }
   ],
   "source": [
    "persona = \"an analyst\"\n",
    "topic = \"learn how to code python\"\n",
    "\n",
    "prompt = f\"\"\"What are the most important topics to a {persona} trying to {topic}?\"\"\"\n",
    "\n",
    "prompt"
   ]
  },
  {
   "cell_type": "code",
   "execution_count": 85,
   "id": "ca669b5d",
   "metadata": {},
   "outputs": [
    {
     "name": "stdout",
     "output_type": "stream",
     "text": [
      "\n",
      "\n",
      "1. Syntax and Basics: Learning the syntax of the language and how to write basic programs.\n",
      "\n",
      "2. Data Structures and Algorithms: Understanding data structures and algorithms, such as lists, tuples, dictionaries, sets, and sorting algorithms.\n",
      "\n",
      "3. Object-Oriented Programming: Understanding classes, objects, methods, and inheritance.\n",
      "\n",
      "4. Control Flow: Understanding how to use conditionals, loops, and functions.\n",
      "\n",
      "5. Libraries and Modules: Learning how to use libraries and modules to make your code more efficient and powerful.\n",
      "\n",
      "6. Debugging and Testing: Knowing how to debug and test your code to ensure it works correctly.\n",
      "\n",
      "7. Web Development: Understanding how to use Python to create websites and web applications.\n",
      "\n",
      "8. Security and Encryption: Learning how to secure your code and data with encryption.\n",
      "\n",
      "9. Data Analysis and Visualization: Understanding how to use Python for data analysis and creating visualizations.\n",
      "\n",
      "10. Machine Learning: Understanding how to use Python for machine learning and artificial intelligence.\n"
     ]
    }
   ],
   "source": [
    "response = openai_textgen_for_datawinners(prompt)\n",
    "print(response)"
   ]
  },
  {
   "cell_type": "markdown",
   "id": "9e08ffbc",
   "metadata": {},
   "source": [
    "## Break down into step by step"
   ]
  },
  {
   "cell_type": "code",
   "execution_count": 89,
   "id": "e0b31b00",
   "metadata": {},
   "outputs": [
    {
     "data": {
      "text/plain": [
       "'I need a Twitter thread idea that will provide a step-by-step guide on how to use free python tutorials and attract high-quality leads with clear and compelling instructions.'"
      ]
     },
     "execution_count": 89,
     "metadata": {},
     "output_type": "execute_result"
    }
   ],
   "source": [
    "\n",
    "content_type = \"Twitter thread\"\n",
    "product = \"free python tutorials\"\n",
    "\n",
    "prompt = f\"\"\"I need a {content_type} idea that will provide a step-by-step guide on how to use {product} and attract high-quality leads with clear and compelling instructions.\"\"\"\n",
    "\n",
    "prompt"
   ]
  },
  {
   "cell_type": "code",
   "execution_count": 90,
   "id": "5fcb732f",
   "metadata": {},
   "outputs": [
    {
     "name": "stdout",
     "output_type": "stream",
     "text": [
      "\n",
      "\n",
      "Thread Idea:\n",
      "\n",
      "1. Start by exploring free Python tutorials available online. Make sure to look for tutorials that have clear and concise instructions. \n",
      "\n",
      "2. Create a few test scripts using the tutorials as a reference. This will help you understand the language and how to use it. \n",
      "\n",
      "3. Once you are comfortable with the language, create a blog post or video that explains how to use the tutorials in a clear and compelling way. \n",
      "\n",
      "4. Use the post or video to attract high-quality leads and drive traffic to the content. \n",
      "\n",
      "5. Leverage social media platforms to spread the word about your content and reach a larger audience. \n",
      "\n",
      "6. Monitor the progress and adjust your strategy accordingly. \n",
      "\n",
      "7. Use the leads and data you’ve gathered to create a successful lead generation campaign. \n",
      "\n",
      "8. Finally, use the data to measure the success of your campaign and tweak it as needed. \n",
      "\n",
      "Follow this step-by-step guide to get started with free Python tutorials and attract high-quality leads with clear and compelling instructions! #PythonTutorials #LeadGeneration #OnlineMarketing\n"
     ]
    }
   ],
   "source": [
    "response = openai_textgen_for_datawinners(prompt)\n",
    "print(response)"
   ]
  },
  {
   "cell_type": "markdown",
   "id": "27ad24ef",
   "metadata": {},
   "source": [
    "# More prompt ideas:\n",
    "    \n",
    "### Brainstorming longer content.\n",
    "\n",
    "> Issue: \"I'm afraid that I won't be able to turn my audience into paying customers.\"\n",
    "> \n",
    "> \n",
    "> For the above issue, create one outline for a tweet thread for each of the following thread types: 1) Solution to a tough problem 2) Prove the status quo wrong 3) Turn an overwhelming topic into something approachable 4) Tell an emotional story that imparts a lesson 5) Identify key trends on a topic 6) Articulate what everyone is thinking but nobody is saying\n",
    "> \n",
    "\n",
    "### Breaking down a product/service into step by steps\n",
    "\n",
    "> I need a Twitter thread idea that will provide a step-by-step guide on how to use my [product/service] and attract high-quality leads with clear and compelling instructions.\n",
    "> \n",
    "\n",
    "### Content ideas that will allow you to showcase your success stories of previous customers\n",
    "\n",
    "> I'm looking for a Twitter thread idea that will establish trust and credibility with my [ideal customer persona] by showcasing the success stories of previous customers who have used my [product/service].\n",
    "> \n",
    "\n",
    "### Content ideas that will be relevant to your ideal reader\n",
    "\n",
    "> I'm looking for a Twitter thread idea that will provide valuable and relevant information to my [ideal customer persona] about [subject] and attract high-quality leads with a strong call-to-action.\n",
    ">"
   ]
  }
 ],
 "metadata": {
  "kernelspec": {
   "display_name": "Python 3 (ipykernel)",
   "language": "python",
   "name": "python3"
  },
  "language_info": {
   "codemirror_mode": {
    "name": "ipython",
    "version": 3
   },
   "file_extension": ".py",
   "mimetype": "text/x-python",
   "name": "python",
   "nbconvert_exporter": "python",
   "pygments_lexer": "ipython3",
   "version": "3.10.12"
  }
 },
 "nbformat": 4,
 "nbformat_minor": 5
}
